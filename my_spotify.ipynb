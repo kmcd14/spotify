{
 "cells": [
  {
   "cell_type": "markdown",
   "metadata": {},
   "source": [
    "# MY SPOTIFY STREAMING HISTORY - DATA EXPLORATION\n",
    "\n",
    "***"
   ]
  },
  {
   "cell_type": "markdown",
   "metadata": {
    "tags": []
   },
   "source": [
    "<br>"
   ]
  },
  {
   "cell_type": "markdown",
   "metadata": {
    "tags": []
   },
   "source": [
    "<br>"
   ]
  },
  {
   "cell_type": "markdown",
   "metadata": {
    "tags": []
   },
   "source": [
    "As a avivd music fan and listener, I wanted to explore and incorporate this into a project. The aim of this project is to research and investigate my personal Spotify listening history, doing so by writing documentation and investigate the data using Python."
   ]
  },
  {
   "cell_type": "markdown",
   "metadata": {
    "tags": []
   },
   "source": [
    "<br>"
   ]
  },
  {
   "cell_type": "markdown",
   "metadata": {
    "tags": []
   },
   "source": [
    "<br>"
   ]
  },
  {
   "cell_type": "markdown",
   "metadata": {
    "tags": []
   },
   "source": [
    "My learning goals for this project are:\n",
    "\n",
    "<li>Exercise my data anaylsis skills by explore my Spotify streaming history using Python</li>\n",
    "<li>Visualise the data using matplotlib and seaborn.</li>\n",
    "<li>Gain a detailed knowledge of my listening habits</li>\n",
    "<li>How my findings will affect my listening habits </li>"
   ]
  },
  {
   "cell_type": "markdown",
   "metadata": {
    "tags": []
   },
   "source": [
    "<br>"
   ]
  },
  {
   "cell_type": "markdown",
   "metadata": {
    "tags": []
   },
   "source": [
    "<br>"
   ]
  },
  {
   "cell_type": "markdown",
   "metadata": {},
   "source": [
    "\n",
    "\n",
    "\n",
    "\n",
    "<img src=\"https://www.pngitem.com/pimgs/m/148-1487614_spotify-logo-small-spotify-logo-transparent-hd-png.png\" alt=\"alt_text\" align=\"left\"\n",
    "\twidth=\"150\" height=\"150\" />\n",
    "\n",
    "\n",
    "<br>\n",
    "Spotify is the world's largest music streaming service provider, with over 365 million monthly active users, including 165 million paying subscribers, as of June 2021 (Spotify, 2021). \n",
    "\n",
    "I requested my streaming history from the [following link](https://www.spotify.com/ie/account/privacy/). After a few days Spotify sent me an email with a download link. After downloading the data, which was in nine seprate json files, I converted them to a  csv file using Google Sheets. This is the dataset I used and can be found in the project respority on Github [here](https://github.com/kmcd14/spotify-history-data-analysis).\n",
    "\n",
    "<br>\n",
    "\n",
    "The column headings are as follows: \n",
    "\n",
    "<li>endTime</li>\n",
    "<li>artistName</li>\t\n",
    "<li>trackName</li>\t\n",
    "<li>msPlayed</li>\n",
    "\n",
    "<br></br>\n",
    "This data inculdes my streaming history from 29-07-2020 untill 30-7-2021.\n",
    " "
   ]
  },
  {
   "cell_type": "markdown",
   "metadata": {
    "tags": []
   },
   "source": [
    "<br>"
   ]
  },
  {
   "cell_type": "markdown",
   "metadata": {
    "tags": []
   },
   "source": [
    "<br>"
   ]
  },
  {
   "cell_type": "markdown",
   "metadata": {
    "tags": []
   },
   "source": [
    "***"
   ]
  },
  {
   "cell_type": "markdown",
   "metadata": {
    "tags": []
   },
   "source": [
    "<br>"
   ]
  },
  {
   "cell_type": "markdown",
   "metadata": {
    "tags": []
   },
   "source": [
    "<br>"
   ]
  },
  {
   "cell_type": "markdown",
   "metadata": {
    "tags": []
   },
   "source": [
    "<br>"
   ]
  },
  {
   "cell_type": "markdown",
   "metadata": {},
   "source": [
    "### Importing Libaries"
   ]
  },
  {
   "cell_type": "markdown",
   "metadata": {
    "tags": []
   },
   "source": [
    "<br>"
   ]
  },
  {
   "cell_type": "markdown",
   "metadata": {
    "tags": []
   },
   "source": [
    "<br>"
   ]
  },
  {
   "cell_type": "code",
   "execution_count": 1,
   "metadata": {},
   "outputs": [],
   "source": [
    "import pandas as pd # Impoting Pandas\n",
    "import numpy as np # Importing Numpy\n",
    "import matplotlib.pyplot as plt # Importing Matplotlib\n",
    "import seaborn as sns # Importing Seaborn\n",
    "from wordcloud import WordCloud # Importing WordCloud\n",
    "from pywaffle import Waffle # Importing pywaffle"
   ]
  },
  {
   "cell_type": "markdown",
   "metadata": {
    "tags": []
   },
   "source": [
    "<br>"
   ]
  },
  {
   "cell_type": "markdown",
   "metadata": {
    "tags": []
   },
   "source": [
    "<br>"
   ]
  },
  {
   "cell_type": "markdown",
   "metadata": {
    "tags": []
   },
   "source": [
    "<br>"
   ]
  },
  {
   "cell_type": "markdown",
   "metadata": {},
   "source": [
    "### Loading the dataset "
   ]
  },
  {
   "cell_type": "markdown",
   "metadata": {
    "tags": []
   },
   "source": [
    "<br>"
   ]
  },
  {
   "cell_type": "code",
   "execution_count": 2,
   "metadata": {},
   "outputs": [],
   "source": [
    "# Reading the Steaming_History CSV file into a pandas DataFrame\n",
    "df = pd.read_csv('streaming_history.csv') "
   ]
  },
  {
   "cell_type": "markdown",
   "metadata": {
    "tags": []
   },
   "source": [
    "<br>"
   ]
  },
  {
   "cell_type": "markdown",
   "metadata": {
    "tags": []
   },
   "source": [
    "<br>"
   ]
  },
  {
   "cell_type": "markdown",
   "metadata": {
    "tags": []
   },
   "source": [
    "<br>"
   ]
  },
  {
   "cell_type": "markdown",
   "metadata": {
    "tags": []
   },
   "source": [
    "### Data"
   ]
  },
  {
   "cell_type": "markdown",
   "metadata": {
    "tags": []
   },
   "source": [
    "<br>"
   ]
  },
  {
   "cell_type": "code",
   "execution_count": 3,
   "metadata": {},
   "outputs": [
    {
     "name": "stdout",
     "output_type": "stream",
     "text": [
      "<class 'pandas.core.frame.DataFrame'>\n",
      "RangeIndex: 95687 entries, 0 to 95686\n",
      "Data columns (total 4 columns):\n",
      " #   Column      Non-Null Count  Dtype \n",
      "---  ------      --------------  ----- \n",
      " 0   endTime     95687 non-null  object\n",
      " 1   artistName  95687 non-null  object\n",
      " 2   trackName   95687 non-null  object\n",
      " 3   msPlayed    95687 non-null  int64 \n",
      "dtypes: int64(1), object(3)\n",
      "memory usage: 2.9+ MB\n"
     ]
    }
   ],
   "source": [
    "# An overview of the dataframe\n",
    "df.info() "
   ]
  },
  {
   "cell_type": "markdown",
   "metadata": {
    "tags": []
   },
   "source": [
    "<br>"
   ]
  },
  {
   "cell_type": "markdown",
   "metadata": {
    "tags": []
   },
   "source": [
    "<br>"
   ]
  },
  {
   "cell_type": "markdown",
   "metadata": {
    "tags": []
   },
   "source": [
    "<br>"
   ]
  },
  {
   "cell_type": "markdown",
   "metadata": {},
   "source": [
    "Getting an overview of the data using .info() to make sure it loaded correctly. This will return how many rows there are, column names, whether there are null vaules and the datatype. \n",
    "\n",
    "Using the head and tail methods we can get a futher look at the dataset. We know from using the info method, there should be 95687 rows and 4 columns."
   ]
  },
  {
   "cell_type": "markdown",
   "metadata": {
    "tags": []
   },
   "source": [
    "<br>"
   ]
  },
  {
   "cell_type": "markdown",
   "metadata": {
    "tags": []
   },
   "source": [
    "<br>"
   ]
  },
  {
   "cell_type": "markdown",
   "metadata": {
    "tags": []
   },
   "source": [
    "<br>"
   ]
  },
  {
   "cell_type": "code",
   "execution_count": 4,
   "metadata": {},
   "outputs": [
    {
     "data": {
      "text/html": [
       "<div>\n",
       "<style scoped>\n",
       "    .dataframe tbody tr th:only-of-type {\n",
       "        vertical-align: middle;\n",
       "    }\n",
       "\n",
       "    .dataframe tbody tr th {\n",
       "        vertical-align: top;\n",
       "    }\n",
       "\n",
       "    .dataframe thead th {\n",
       "        text-align: right;\n",
       "    }\n",
       "</style>\n",
       "<table border=\"1\" class=\"dataframe\">\n",
       "  <thead>\n",
       "    <tr style=\"text-align: right;\">\n",
       "      <th></th>\n",
       "      <th>endTime</th>\n",
       "      <th>artistName</th>\n",
       "      <th>trackName</th>\n",
       "      <th>msPlayed</th>\n",
       "    </tr>\n",
       "  </thead>\n",
       "  <tbody>\n",
       "    <tr>\n",
       "      <th>0</th>\n",
       "      <td>2020-07-29 14:30</td>\n",
       "      <td>Madonna</td>\n",
       "      <td>Celebration</td>\n",
       "      <td>195590</td>\n",
       "    </tr>\n",
       "    <tr>\n",
       "      <th>1</th>\n",
       "      <td>2020-07-29 23:02</td>\n",
       "      <td>Carly Rae Jepsen</td>\n",
       "      <td>Beautiful</td>\n",
       "      <td>28663</td>\n",
       "    </tr>\n",
       "    <tr>\n",
       "      <th>2</th>\n",
       "      <td>2020-07-30 9:21</td>\n",
       "      <td>Carly Rae Jepsen</td>\n",
       "      <td>Sweetie</td>\n",
       "      <td>36382</td>\n",
       "    </tr>\n",
       "    <tr>\n",
       "      <th>3</th>\n",
       "      <td>2020-07-30 9:21</td>\n",
       "      <td>Carly Rae Jepsen</td>\n",
       "      <td>Stay Away</td>\n",
       "      <td>217306</td>\n",
       "    </tr>\n",
       "    <tr>\n",
       "      <th>4</th>\n",
       "      <td>2020-07-30 9:22</td>\n",
       "      <td>Carly Rae Jepsen</td>\n",
       "      <td>Right Words Wrong Time</td>\n",
       "      <td>557</td>\n",
       "    </tr>\n",
       "  </tbody>\n",
       "</table>\n",
       "</div>"
      ],
      "text/plain": [
       "            endTime        artistName               trackName  msPlayed\n",
       "0  2020-07-29 14:30           Madonna             Celebration    195590\n",
       "1  2020-07-29 23:02  Carly Rae Jepsen               Beautiful     28663\n",
       "2   2020-07-30 9:21  Carly Rae Jepsen                 Sweetie     36382\n",
       "3   2020-07-30 9:21  Carly Rae Jepsen               Stay Away    217306\n",
       "4   2020-07-30 9:22  Carly Rae Jepsen  Right Words Wrong Time       557"
      ]
     },
     "execution_count": 4,
     "metadata": {},
     "output_type": "execute_result"
    }
   ],
   "source": [
    " # Returns the first 5 rows by default\n",
    "df.head()"
   ]
  },
  {
   "cell_type": "markdown",
   "metadata": {
    "tags": []
   },
   "source": [
    "<br>"
   ]
  },
  {
   "cell_type": "markdown",
   "metadata": {
    "tags": []
   },
   "source": [
    "<br>"
   ]
  },
  {
   "cell_type": "markdown",
   "metadata": {
    "tags": []
   },
   "source": [
    "<br>"
   ]
  },
  {
   "cell_type": "code",
   "execution_count": 5,
   "metadata": {},
   "outputs": [
    {
     "data": {
      "text/html": [
       "<div>\n",
       "<style scoped>\n",
       "    .dataframe tbody tr th:only-of-type {\n",
       "        vertical-align: middle;\n",
       "    }\n",
       "\n",
       "    .dataframe tbody tr th {\n",
       "        vertical-align: top;\n",
       "    }\n",
       "\n",
       "    .dataframe thead th {\n",
       "        text-align: right;\n",
       "    }\n",
       "</style>\n",
       "<table border=\"1\" class=\"dataframe\">\n",
       "  <thead>\n",
       "    <tr style=\"text-align: right;\">\n",
       "      <th></th>\n",
       "      <th>endTime</th>\n",
       "      <th>artistName</th>\n",
       "      <th>trackName</th>\n",
       "      <th>msPlayed</th>\n",
       "    </tr>\n",
       "  </thead>\n",
       "  <tbody>\n",
       "    <tr>\n",
       "      <th>95682</th>\n",
       "      <td>2021-07-30 18:16</td>\n",
       "      <td>Carly Rae Jepsen</td>\n",
       "      <td>Let's Be Friends</td>\n",
       "      <td>190242</td>\n",
       "    </tr>\n",
       "    <tr>\n",
       "      <th>95683</th>\n",
       "      <td>2021-07-30 18:19</td>\n",
       "      <td>Mae Muller</td>\n",
       "      <td>Therapist</td>\n",
       "      <td>183726</td>\n",
       "    </tr>\n",
       "    <tr>\n",
       "      <th>95684</th>\n",
       "      <td>2021-07-30 18:23</td>\n",
       "      <td>Lindsay Lohan</td>\n",
       "      <td>Bossy - Main Version Clean</td>\n",
       "      <td>250293</td>\n",
       "    </tr>\n",
       "    <tr>\n",
       "      <th>95685</th>\n",
       "      <td>2021-07-30 18:27</td>\n",
       "      <td>Tei Shi</td>\n",
       "      <td>Die 4 Ur Love</td>\n",
       "      <td>199773</td>\n",
       "    </tr>\n",
       "    <tr>\n",
       "      <th>95686</th>\n",
       "      <td>2021-07-30 18:31</td>\n",
       "      <td>Taylor Swift</td>\n",
       "      <td>Dress</td>\n",
       "      <td>230373</td>\n",
       "    </tr>\n",
       "  </tbody>\n",
       "</table>\n",
       "</div>"
      ],
      "text/plain": [
       "                endTime        artistName                   trackName  \\\n",
       "95682  2021-07-30 18:16  Carly Rae Jepsen            Let's Be Friends   \n",
       "95683  2021-07-30 18:19        Mae Muller                   Therapist   \n",
       "95684  2021-07-30 18:23     Lindsay Lohan  Bossy - Main Version Clean   \n",
       "95685  2021-07-30 18:27           Tei Shi               Die 4 Ur Love   \n",
       "95686  2021-07-30 18:31      Taylor Swift                       Dress   \n",
       "\n",
       "       msPlayed  \n",
       "95682    190242  \n",
       "95683    183726  \n",
       "95684    250293  \n",
       "95685    199773  \n",
       "95686    230373  "
      ]
     },
     "execution_count": 5,
     "metadata": {},
     "output_type": "execute_result"
    }
   ],
   "source": [
    "# Returns the last 5 rows by default.\n",
    "df.tail() "
   ]
  },
  {
   "cell_type": "markdown",
   "metadata": {
    "tags": []
   },
   "source": [
    "<br>"
   ]
  },
  {
   "cell_type": "markdown",
   "metadata": {
    "tags": []
   },
   "source": [
    "<br>"
   ]
  },
  {
   "cell_type": "markdown",
   "metadata": {
    "tags": []
   },
   "source": [
    "<br>"
   ]
  },
  {
   "cell_type": "code",
   "execution_count": 6,
   "metadata": {},
   "outputs": [
    {
     "data": {
      "text/plain": [
       "endTime       36463\n",
       "artistName     2899\n",
       "trackName      9154\n",
       "msPlayed      23265\n",
       "dtype: int64"
      ]
     },
     "execution_count": 6,
     "metadata": {},
     "output_type": "execute_result"
    }
   ],
   "source": [
    " # Unique elements in each column \n",
    "df.nunique()"
   ]
  },
  {
   "cell_type": "markdown",
   "metadata": {
    "tags": []
   },
   "source": [
    "<br>"
   ]
  },
  {
   "cell_type": "markdown",
   "metadata": {
    "tags": []
   },
   "source": [
    "<br>"
   ]
  },
  {
   "cell_type": "markdown",
   "metadata": {
    "tags": []
   },
   "source": [
    "<br>"
   ]
  },
  {
   "cell_type": "markdown",
   "metadata": {
    "tags": []
   },
   "source": [
    "<br>"
   ]
  },
  {
   "cell_type": "markdown",
   "metadata": {},
   "source": [
    "### Formatting and Overview"
   ]
  },
  {
   "cell_type": "markdown",
   "metadata": {
    "tags": []
   },
   "source": [
    "<br>"
   ]
  },
  {
   "cell_type": "code",
   "execution_count": 7,
   "metadata": {},
   "outputs": [],
   "source": [
    "# To create a new column 'Playtime'\n",
    "df[\"PlayTime\"] = pd.to_datetime(df[\"endTime\"]) "
   ]
  },
  {
   "cell_type": "markdown",
   "metadata": {
    "tags": []
   },
   "source": [
    "<br>"
   ]
  },
  {
   "cell_type": "markdown",
   "metadata": {
    "tags": []
   },
   "source": [
    "<br>"
   ]
  },
  {
   "cell_type": "markdown",
   "metadata": {},
   "source": [
    " Here we used the DatetimeIndex module to obatin the several unique information. We also added them to a new columns as per their representaion and information.\n"
   ]
  },
  {
   "cell_type": "markdown",
   "metadata": {
    "tags": []
   },
   "source": [
    "<br>"
   ]
  },
  {
   "cell_type": "code",
   "execution_count": 8,
   "metadata": {},
   "outputs": [],
   "source": [
    "# The year the song was played\n",
    "df['year'] = pd.DatetimeIndex(df['PlayTime']).year \n",
    "\n",
    " # The month the song was played\n",
    "df['month'] = pd.DatetimeIndex(df['PlayTime']).month\n",
    "\n",
    "# The date of the day the song was played\n",
    "df['day'] = pd.DatetimeIndex(df['PlayTime']).day \n",
    "\n",
    " # The weekday the song was played(numerical)\n",
    "df['weekday'] = pd.DatetimeIndex(df['PlayTime']).weekday\n",
    "\n",
    "# The time the song was played\n",
    "df['time'] = pd.DatetimeIndex(df['PlayTime']).time \n",
    "\n",
    "# The hour the song was played\n",
    "df['hours'] = pd.DatetimeIndex(df['PlayTime']).hour \n",
    "\n",
    "# The weekday in name form the song was played\n",
    "df['day-name'] = df['PlayTime'].apply(lambda x: x.day_name()) \n",
    "\n",
    "# The number of times the song was played\n",
    "df['Count'] = 1 "
   ]
  },
  {
   "cell_type": "markdown",
   "metadata": {
    "tags": []
   },
   "source": [
    "<br>"
   ]
  },
  {
   "cell_type": "markdown",
   "metadata": {
    "tags": []
   },
   "source": [
    "<br>"
   ]
  },
  {
   "cell_type": "markdown",
   "metadata": {},
   "source": [
    "We can take a look at the dataframe with the newly added columns"
   ]
  },
  {
   "cell_type": "markdown",
   "metadata": {
    "tags": []
   },
   "source": [
    "<br>"
   ]
  },
  {
   "cell_type": "markdown",
   "metadata": {
    "tags": []
   },
   "source": [
    "<br>"
   ]
  },
  {
   "cell_type": "code",
   "execution_count": 9,
   "metadata": {
    "tags": []
   },
   "outputs": [
    {
     "data": {
      "text/html": [
       "<div>\n",
       "<style scoped>\n",
       "    .dataframe tbody tr th:only-of-type {\n",
       "        vertical-align: middle;\n",
       "    }\n",
       "\n",
       "    .dataframe tbody tr th {\n",
       "        vertical-align: top;\n",
       "    }\n",
       "\n",
       "    .dataframe thead th {\n",
       "        text-align: right;\n",
       "    }\n",
       "</style>\n",
       "<table border=\"1\" class=\"dataframe\">\n",
       "  <thead>\n",
       "    <tr style=\"text-align: right;\">\n",
       "      <th></th>\n",
       "      <th>endTime</th>\n",
       "      <th>artistName</th>\n",
       "      <th>trackName</th>\n",
       "      <th>msPlayed</th>\n",
       "      <th>PlayTime</th>\n",
       "      <th>year</th>\n",
       "      <th>month</th>\n",
       "      <th>day</th>\n",
       "      <th>weekday</th>\n",
       "      <th>time</th>\n",
       "      <th>hours</th>\n",
       "      <th>day-name</th>\n",
       "      <th>Count</th>\n",
       "    </tr>\n",
       "  </thead>\n",
       "  <tbody>\n",
       "    <tr>\n",
       "      <th>0</th>\n",
       "      <td>2020-07-29 14:30</td>\n",
       "      <td>Madonna</td>\n",
       "      <td>Celebration</td>\n",
       "      <td>195590</td>\n",
       "      <td>2020-07-29 14:30:00</td>\n",
       "      <td>2020</td>\n",
       "      <td>7</td>\n",
       "      <td>29</td>\n",
       "      <td>2</td>\n",
       "      <td>14:30:00</td>\n",
       "      <td>14</td>\n",
       "      <td>Wednesday</td>\n",
       "      <td>1</td>\n",
       "    </tr>\n",
       "    <tr>\n",
       "      <th>1</th>\n",
       "      <td>2020-07-29 23:02</td>\n",
       "      <td>Carly Rae Jepsen</td>\n",
       "      <td>Beautiful</td>\n",
       "      <td>28663</td>\n",
       "      <td>2020-07-29 23:02:00</td>\n",
       "      <td>2020</td>\n",
       "      <td>7</td>\n",
       "      <td>29</td>\n",
       "      <td>2</td>\n",
       "      <td>23:02:00</td>\n",
       "      <td>23</td>\n",
       "      <td>Wednesday</td>\n",
       "      <td>1</td>\n",
       "    </tr>\n",
       "    <tr>\n",
       "      <th>2</th>\n",
       "      <td>2020-07-30 9:21</td>\n",
       "      <td>Carly Rae Jepsen</td>\n",
       "      <td>Sweetie</td>\n",
       "      <td>36382</td>\n",
       "      <td>2020-07-30 09:21:00</td>\n",
       "      <td>2020</td>\n",
       "      <td>7</td>\n",
       "      <td>30</td>\n",
       "      <td>3</td>\n",
       "      <td>09:21:00</td>\n",
       "      <td>9</td>\n",
       "      <td>Thursday</td>\n",
       "      <td>1</td>\n",
       "    </tr>\n",
       "    <tr>\n",
       "      <th>3</th>\n",
       "      <td>2020-07-30 9:21</td>\n",
       "      <td>Carly Rae Jepsen</td>\n",
       "      <td>Stay Away</td>\n",
       "      <td>217306</td>\n",
       "      <td>2020-07-30 09:21:00</td>\n",
       "      <td>2020</td>\n",
       "      <td>7</td>\n",
       "      <td>30</td>\n",
       "      <td>3</td>\n",
       "      <td>09:21:00</td>\n",
       "      <td>9</td>\n",
       "      <td>Thursday</td>\n",
       "      <td>1</td>\n",
       "    </tr>\n",
       "    <tr>\n",
       "      <th>4</th>\n",
       "      <td>2020-07-30 9:22</td>\n",
       "      <td>Carly Rae Jepsen</td>\n",
       "      <td>Right Words Wrong Time</td>\n",
       "      <td>557</td>\n",
       "      <td>2020-07-30 09:22:00</td>\n",
       "      <td>2020</td>\n",
       "      <td>7</td>\n",
       "      <td>30</td>\n",
       "      <td>3</td>\n",
       "      <td>09:22:00</td>\n",
       "      <td>9</td>\n",
       "      <td>Thursday</td>\n",
       "      <td>1</td>\n",
       "    </tr>\n",
       "  </tbody>\n",
       "</table>\n",
       "</div>"
      ],
      "text/plain": [
       "            endTime        artistName               trackName  msPlayed  \\\n",
       "0  2020-07-29 14:30           Madonna             Celebration    195590   \n",
       "1  2020-07-29 23:02  Carly Rae Jepsen               Beautiful     28663   \n",
       "2   2020-07-30 9:21  Carly Rae Jepsen                 Sweetie     36382   \n",
       "3   2020-07-30 9:21  Carly Rae Jepsen               Stay Away    217306   \n",
       "4   2020-07-30 9:22  Carly Rae Jepsen  Right Words Wrong Time       557   \n",
       "\n",
       "             PlayTime  year  month  day  weekday      time  hours   day-name  \\\n",
       "0 2020-07-29 14:30:00  2020      7   29        2  14:30:00     14  Wednesday   \n",
       "1 2020-07-29 23:02:00  2020      7   29        2  23:02:00     23  Wednesday   \n",
       "2 2020-07-30 09:21:00  2020      7   30        3  09:21:00      9   Thursday   \n",
       "3 2020-07-30 09:21:00  2020      7   30        3  09:21:00      9   Thursday   \n",
       "4 2020-07-30 09:22:00  2020      7   30        3  09:22:00      9   Thursday   \n",
       "\n",
       "   Count  \n",
       "0      1  \n",
       "1      1  \n",
       "2      1  \n",
       "3      1  \n",
       "4      1  "
      ]
     },
     "execution_count": 9,
     "metadata": {},
     "output_type": "execute_result"
    }
   ],
   "source": [
    "# First 5 rows\n",
    "df.head() "
   ]
  },
  {
   "cell_type": "markdown",
   "metadata": {
    "tags": []
   },
   "source": [
    "<br>"
   ]
  },
  {
   "cell_type": "markdown",
   "metadata": {
    "tags": []
   },
   "source": [
    "<br>"
   ]
  },
  {
   "cell_type": "markdown",
   "metadata": {
    "tags": []
   },
   "source": [
    "<br>"
   ]
  },
  {
   "cell_type": "markdown",
   "metadata": {},
   "source": [
    "msPlayed is the time played in miliseconds. Converting this into hours and minutes will help me better understand the data better. This can be done through using the timedelta function in the timedate module."
   ]
  },
  {
   "cell_type": "markdown",
   "metadata": {
    "tags": []
   },
   "source": [
    "<br>"
   ]
  },
  {
   "cell_type": "markdown",
   "metadata": {
    "tags": []
   },
   "source": [
    "<br>"
   ]
  },
  {
   "cell_type": "code",
   "execution_count": 10,
   "metadata": {},
   "outputs": [],
   "source": [
    "# Using msPlayed to create another column called TimePlayed in hh-mm-ss format. \n",
    "df[\"TimePlayed (hh-mm-ss)\"] = pd.to_timedelta(df[\"msPlayed\"], unit='ms')"
   ]
  },
  {
   "cell_type": "markdown",
   "metadata": {
    "tags": []
   },
   "source": [
    "<br>"
   ]
  },
  {
   "cell_type": "markdown",
   "metadata": {
    "tags": []
   },
   "source": [
    "<br>"
   ]
  },
  {
   "cell_type": "markdown",
   "metadata": {},
   "source": [
    "To futher drill-down on this column, we can use a function to create seprate columns for hours and minutes."
   ]
  },
  {
   "cell_type": "markdown",
   "metadata": {
    "tags": []
   },
   "source": [
    "<br>"
   ]
  },
  {
   "cell_type": "markdown",
   "metadata": {
    "tags": []
   },
   "source": [
    "<br>"
   ]
  },
  {
   "cell_type": "code",
   "execution_count": 11,
   "metadata": {},
   "outputs": [],
   "source": [
    "# Getting the listening time in hours\n",
    "def hours(listening_time): \n",
    "    return listening_time.seconds/3600 # There are 3600seconds in an hour.\n",
    "\n",
    "# Getting the listening time in minutes\n",
    "def minutes(listening_time):\n",
    "    return (listening_time.seconds/60)%60 # There are 60minutes in an hour.\n",
    "\n",
    "# Creating new columns for listening time in hours and minutes. Rounding to 3 places after the decimal \n",
    "df[\"Listening Time(Hours)\"] = df[\"TimePlayed (hh-mm-ss)\"].apply(hours).round(3) \n",
    "df[\"Listening Time(Minutes)\"] = df[\"TimePlayed (hh-mm-ss)\"].apply(minutes).round(3)"
   ]
  },
  {
   "cell_type": "markdown",
   "metadata": {
    "tags": []
   },
   "source": [
    "<br>"
   ]
  },
  {
   "cell_type": "markdown",
   "metadata": {
    "tags": []
   },
   "source": [
    "<br>"
   ]
  },
  {
   "cell_type": "code",
   "execution_count": 12,
   "metadata": {},
   "outputs": [
    {
     "data": {
      "text/html": [
       "<div>\n",
       "<style scoped>\n",
       "    .dataframe tbody tr th:only-of-type {\n",
       "        vertical-align: middle;\n",
       "    }\n",
       "\n",
       "    .dataframe tbody tr th {\n",
       "        vertical-align: top;\n",
       "    }\n",
       "\n",
       "    .dataframe thead th {\n",
       "        text-align: right;\n",
       "    }\n",
       "</style>\n",
       "<table border=\"1\" class=\"dataframe\">\n",
       "  <thead>\n",
       "    <tr style=\"text-align: right;\">\n",
       "      <th></th>\n",
       "      <th>endTime</th>\n",
       "      <th>artistName</th>\n",
       "      <th>trackName</th>\n",
       "      <th>msPlayed</th>\n",
       "      <th>PlayTime</th>\n",
       "      <th>year</th>\n",
       "      <th>month</th>\n",
       "      <th>day</th>\n",
       "      <th>weekday</th>\n",
       "      <th>time</th>\n",
       "      <th>hours</th>\n",
       "      <th>day-name</th>\n",
       "      <th>Count</th>\n",
       "      <th>TimePlayed (hh-mm-ss)</th>\n",
       "      <th>Listening Time(Hours)</th>\n",
       "      <th>Listening Time(Minutes)</th>\n",
       "    </tr>\n",
       "  </thead>\n",
       "  <tbody>\n",
       "    <tr>\n",
       "      <th>0</th>\n",
       "      <td>2020-07-29 14:30</td>\n",
       "      <td>Madonna</td>\n",
       "      <td>Celebration</td>\n",
       "      <td>195590</td>\n",
       "      <td>2020-07-29 14:30:00</td>\n",
       "      <td>2020</td>\n",
       "      <td>7</td>\n",
       "      <td>29</td>\n",
       "      <td>2</td>\n",
       "      <td>14:30:00</td>\n",
       "      <td>14</td>\n",
       "      <td>Wednesday</td>\n",
       "      <td>1</td>\n",
       "      <td>0 days 00:03:15.590000</td>\n",
       "      <td>0.054</td>\n",
       "      <td>3.250</td>\n",
       "    </tr>\n",
       "    <tr>\n",
       "      <th>1</th>\n",
       "      <td>2020-07-29 23:02</td>\n",
       "      <td>Carly Rae Jepsen</td>\n",
       "      <td>Beautiful</td>\n",
       "      <td>28663</td>\n",
       "      <td>2020-07-29 23:02:00</td>\n",
       "      <td>2020</td>\n",
       "      <td>7</td>\n",
       "      <td>29</td>\n",
       "      <td>2</td>\n",
       "      <td>23:02:00</td>\n",
       "      <td>23</td>\n",
       "      <td>Wednesday</td>\n",
       "      <td>1</td>\n",
       "      <td>0 days 00:00:28.663000</td>\n",
       "      <td>0.008</td>\n",
       "      <td>0.467</td>\n",
       "    </tr>\n",
       "    <tr>\n",
       "      <th>2</th>\n",
       "      <td>2020-07-30 9:21</td>\n",
       "      <td>Carly Rae Jepsen</td>\n",
       "      <td>Sweetie</td>\n",
       "      <td>36382</td>\n",
       "      <td>2020-07-30 09:21:00</td>\n",
       "      <td>2020</td>\n",
       "      <td>7</td>\n",
       "      <td>30</td>\n",
       "      <td>3</td>\n",
       "      <td>09:21:00</td>\n",
       "      <td>9</td>\n",
       "      <td>Thursday</td>\n",
       "      <td>1</td>\n",
       "      <td>0 days 00:00:36.382000</td>\n",
       "      <td>0.010</td>\n",
       "      <td>0.600</td>\n",
       "    </tr>\n",
       "    <tr>\n",
       "      <th>3</th>\n",
       "      <td>2020-07-30 9:21</td>\n",
       "      <td>Carly Rae Jepsen</td>\n",
       "      <td>Stay Away</td>\n",
       "      <td>217306</td>\n",
       "      <td>2020-07-30 09:21:00</td>\n",
       "      <td>2020</td>\n",
       "      <td>7</td>\n",
       "      <td>30</td>\n",
       "      <td>3</td>\n",
       "      <td>09:21:00</td>\n",
       "      <td>9</td>\n",
       "      <td>Thursday</td>\n",
       "      <td>1</td>\n",
       "      <td>0 days 00:03:37.306000</td>\n",
       "      <td>0.060</td>\n",
       "      <td>3.617</td>\n",
       "    </tr>\n",
       "    <tr>\n",
       "      <th>4</th>\n",
       "      <td>2020-07-30 9:22</td>\n",
       "      <td>Carly Rae Jepsen</td>\n",
       "      <td>Right Words Wrong Time</td>\n",
       "      <td>557</td>\n",
       "      <td>2020-07-30 09:22:00</td>\n",
       "      <td>2020</td>\n",
       "      <td>7</td>\n",
       "      <td>30</td>\n",
       "      <td>3</td>\n",
       "      <td>09:22:00</td>\n",
       "      <td>9</td>\n",
       "      <td>Thursday</td>\n",
       "      <td>1</td>\n",
       "      <td>0 days 00:00:00.557000</td>\n",
       "      <td>0.000</td>\n",
       "      <td>0.000</td>\n",
       "    </tr>\n",
       "  </tbody>\n",
       "</table>\n",
       "</div>"
      ],
      "text/plain": [
       "            endTime        artistName               trackName  msPlayed  \\\n",
       "0  2020-07-29 14:30           Madonna             Celebration    195590   \n",
       "1  2020-07-29 23:02  Carly Rae Jepsen               Beautiful     28663   \n",
       "2   2020-07-30 9:21  Carly Rae Jepsen                 Sweetie     36382   \n",
       "3   2020-07-30 9:21  Carly Rae Jepsen               Stay Away    217306   \n",
       "4   2020-07-30 9:22  Carly Rae Jepsen  Right Words Wrong Time       557   \n",
       "\n",
       "             PlayTime  year  month  day  weekday      time  hours   day-name  \\\n",
       "0 2020-07-29 14:30:00  2020      7   29        2  14:30:00     14  Wednesday   \n",
       "1 2020-07-29 23:02:00  2020      7   29        2  23:02:00     23  Wednesday   \n",
       "2 2020-07-30 09:21:00  2020      7   30        3  09:21:00      9   Thursday   \n",
       "3 2020-07-30 09:21:00  2020      7   30        3  09:21:00      9   Thursday   \n",
       "4 2020-07-30 09:22:00  2020      7   30        3  09:22:00      9   Thursday   \n",
       "\n",
       "   Count  TimePlayed (hh-mm-ss)  Listening Time(Hours)  \\\n",
       "0      1 0 days 00:03:15.590000                  0.054   \n",
       "1      1 0 days 00:00:28.663000                  0.008   \n",
       "2      1 0 days 00:00:36.382000                  0.010   \n",
       "3      1 0 days 00:03:37.306000                  0.060   \n",
       "4      1 0 days 00:00:00.557000                  0.000   \n",
       "\n",
       "   Listening Time(Minutes)  \n",
       "0                    3.250  \n",
       "1                    0.467  \n",
       "2                    0.600  \n",
       "3                    3.617  \n",
       "4                    0.000  "
      ]
     },
     "execution_count": 12,
     "metadata": {},
     "output_type": "execute_result"
    }
   ],
   "source": [
    "# First 5 rows \n",
    "df.head() "
   ]
  },
  {
   "cell_type": "markdown",
   "metadata": {
    "tags": []
   },
   "source": [
    "<br>"
   ]
  },
  {
   "cell_type": "markdown",
   "metadata": {
    "tags": []
   },
   "source": [
    "<br>"
   ]
  },
  {
   "cell_type": "markdown",
   "metadata": {},
   "source": [
    "There are some extra columns in this dataframe we won't be using. We can get rid of them by using the .drop() method. "
   ]
  },
  {
   "cell_type": "markdown",
   "metadata": {
    "tags": []
   },
   "source": [
    "<br>"
   ]
  },
  {
   "cell_type": "markdown",
   "metadata": {
    "tags": []
   },
   "source": [
    "<br>"
   ]
  },
  {
   "cell_type": "code",
   "execution_count": 13,
   "metadata": {},
   "outputs": [],
   "source": [
    "# Dropping columns. Assigning True to inPlace means the data is modified in place.\n",
    "df.drop(columns=[\"endTime\",\"TimePlayed (hh-mm-ss)\",\"msPlayed\"], inplace=True) "
   ]
  },
  {
   "cell_type": "code",
   "execution_count": 14,
   "metadata": {},
   "outputs": [
    {
     "data": {
      "text/html": [
       "<div>\n",
       "<style scoped>\n",
       "    .dataframe tbody tr th:only-of-type {\n",
       "        vertical-align: middle;\n",
       "    }\n",
       "\n",
       "    .dataframe tbody tr th {\n",
       "        vertical-align: top;\n",
       "    }\n",
       "\n",
       "    .dataframe thead th {\n",
       "        text-align: right;\n",
       "    }\n",
       "</style>\n",
       "<table border=\"1\" class=\"dataframe\">\n",
       "  <thead>\n",
       "    <tr style=\"text-align: right;\">\n",
       "      <th></th>\n",
       "      <th>artistName</th>\n",
       "      <th>trackName</th>\n",
       "      <th>PlayTime</th>\n",
       "      <th>year</th>\n",
       "      <th>month</th>\n",
       "      <th>day</th>\n",
       "      <th>weekday</th>\n",
       "      <th>time</th>\n",
       "      <th>hours</th>\n",
       "      <th>day-name</th>\n",
       "      <th>Count</th>\n",
       "      <th>Listening Time(Hours)</th>\n",
       "      <th>Listening Time(Minutes)</th>\n",
       "    </tr>\n",
       "  </thead>\n",
       "  <tbody>\n",
       "    <tr>\n",
       "      <th>0</th>\n",
       "      <td>Madonna</td>\n",
       "      <td>Celebration</td>\n",
       "      <td>2020-07-29 14:30:00</td>\n",
       "      <td>2020</td>\n",
       "      <td>7</td>\n",
       "      <td>29</td>\n",
       "      <td>2</td>\n",
       "      <td>14:30:00</td>\n",
       "      <td>14</td>\n",
       "      <td>Wednesday</td>\n",
       "      <td>1</td>\n",
       "      <td>0.054</td>\n",
       "      <td>3.250</td>\n",
       "    </tr>\n",
       "    <tr>\n",
       "      <th>1</th>\n",
       "      <td>Carly Rae Jepsen</td>\n",
       "      <td>Beautiful</td>\n",
       "      <td>2020-07-29 23:02:00</td>\n",
       "      <td>2020</td>\n",
       "      <td>7</td>\n",
       "      <td>29</td>\n",
       "      <td>2</td>\n",
       "      <td>23:02:00</td>\n",
       "      <td>23</td>\n",
       "      <td>Wednesday</td>\n",
       "      <td>1</td>\n",
       "      <td>0.008</td>\n",
       "      <td>0.467</td>\n",
       "    </tr>\n",
       "    <tr>\n",
       "      <th>2</th>\n",
       "      <td>Carly Rae Jepsen</td>\n",
       "      <td>Sweetie</td>\n",
       "      <td>2020-07-30 09:21:00</td>\n",
       "      <td>2020</td>\n",
       "      <td>7</td>\n",
       "      <td>30</td>\n",
       "      <td>3</td>\n",
       "      <td>09:21:00</td>\n",
       "      <td>9</td>\n",
       "      <td>Thursday</td>\n",
       "      <td>1</td>\n",
       "      <td>0.010</td>\n",
       "      <td>0.600</td>\n",
       "    </tr>\n",
       "    <tr>\n",
       "      <th>3</th>\n",
       "      <td>Carly Rae Jepsen</td>\n",
       "      <td>Stay Away</td>\n",
       "      <td>2020-07-30 09:21:00</td>\n",
       "      <td>2020</td>\n",
       "      <td>7</td>\n",
       "      <td>30</td>\n",
       "      <td>3</td>\n",
       "      <td>09:21:00</td>\n",
       "      <td>9</td>\n",
       "      <td>Thursday</td>\n",
       "      <td>1</td>\n",
       "      <td>0.060</td>\n",
       "      <td>3.617</td>\n",
       "    </tr>\n",
       "    <tr>\n",
       "      <th>4</th>\n",
       "      <td>Carly Rae Jepsen</td>\n",
       "      <td>Right Words Wrong Time</td>\n",
       "      <td>2020-07-30 09:22:00</td>\n",
       "      <td>2020</td>\n",
       "      <td>7</td>\n",
       "      <td>30</td>\n",
       "      <td>3</td>\n",
       "      <td>09:22:00</td>\n",
       "      <td>9</td>\n",
       "      <td>Thursday</td>\n",
       "      <td>1</td>\n",
       "      <td>0.000</td>\n",
       "      <td>0.000</td>\n",
       "    </tr>\n",
       "    <tr>\n",
       "      <th>...</th>\n",
       "      <td>...</td>\n",
       "      <td>...</td>\n",
       "      <td>...</td>\n",
       "      <td>...</td>\n",
       "      <td>...</td>\n",
       "      <td>...</td>\n",
       "      <td>...</td>\n",
       "      <td>...</td>\n",
       "      <td>...</td>\n",
       "      <td>...</td>\n",
       "      <td>...</td>\n",
       "      <td>...</td>\n",
       "      <td>...</td>\n",
       "    </tr>\n",
       "    <tr>\n",
       "      <th>95682</th>\n",
       "      <td>Carly Rae Jepsen</td>\n",
       "      <td>Let's Be Friends</td>\n",
       "      <td>2021-07-30 18:16:00</td>\n",
       "      <td>2021</td>\n",
       "      <td>7</td>\n",
       "      <td>30</td>\n",
       "      <td>4</td>\n",
       "      <td>18:16:00</td>\n",
       "      <td>18</td>\n",
       "      <td>Friday</td>\n",
       "      <td>1</td>\n",
       "      <td>0.053</td>\n",
       "      <td>3.167</td>\n",
       "    </tr>\n",
       "    <tr>\n",
       "      <th>95683</th>\n",
       "      <td>Mae Muller</td>\n",
       "      <td>Therapist</td>\n",
       "      <td>2021-07-30 18:19:00</td>\n",
       "      <td>2021</td>\n",
       "      <td>7</td>\n",
       "      <td>30</td>\n",
       "      <td>4</td>\n",
       "      <td>18:19:00</td>\n",
       "      <td>18</td>\n",
       "      <td>Friday</td>\n",
       "      <td>1</td>\n",
       "      <td>0.051</td>\n",
       "      <td>3.050</td>\n",
       "    </tr>\n",
       "    <tr>\n",
       "      <th>95684</th>\n",
       "      <td>Lindsay Lohan</td>\n",
       "      <td>Bossy - Main Version Clean</td>\n",
       "      <td>2021-07-30 18:23:00</td>\n",
       "      <td>2021</td>\n",
       "      <td>7</td>\n",
       "      <td>30</td>\n",
       "      <td>4</td>\n",
       "      <td>18:23:00</td>\n",
       "      <td>18</td>\n",
       "      <td>Friday</td>\n",
       "      <td>1</td>\n",
       "      <td>0.069</td>\n",
       "      <td>4.167</td>\n",
       "    </tr>\n",
       "    <tr>\n",
       "      <th>95685</th>\n",
       "      <td>Tei Shi</td>\n",
       "      <td>Die 4 Ur Love</td>\n",
       "      <td>2021-07-30 18:27:00</td>\n",
       "      <td>2021</td>\n",
       "      <td>7</td>\n",
       "      <td>30</td>\n",
       "      <td>4</td>\n",
       "      <td>18:27:00</td>\n",
       "      <td>18</td>\n",
       "      <td>Friday</td>\n",
       "      <td>1</td>\n",
       "      <td>0.055</td>\n",
       "      <td>3.317</td>\n",
       "    </tr>\n",
       "    <tr>\n",
       "      <th>95686</th>\n",
       "      <td>Taylor Swift</td>\n",
       "      <td>Dress</td>\n",
       "      <td>2021-07-30 18:31:00</td>\n",
       "      <td>2021</td>\n",
       "      <td>7</td>\n",
       "      <td>30</td>\n",
       "      <td>4</td>\n",
       "      <td>18:31:00</td>\n",
       "      <td>18</td>\n",
       "      <td>Friday</td>\n",
       "      <td>1</td>\n",
       "      <td>0.064</td>\n",
       "      <td>3.833</td>\n",
       "    </tr>\n",
       "  </tbody>\n",
       "</table>\n",
       "<p>95687 rows × 13 columns</p>\n",
       "</div>"
      ],
      "text/plain": [
       "             artistName                   trackName            PlayTime  year  \\\n",
       "0               Madonna                 Celebration 2020-07-29 14:30:00  2020   \n",
       "1      Carly Rae Jepsen                   Beautiful 2020-07-29 23:02:00  2020   \n",
       "2      Carly Rae Jepsen                     Sweetie 2020-07-30 09:21:00  2020   \n",
       "3      Carly Rae Jepsen                   Stay Away 2020-07-30 09:21:00  2020   \n",
       "4      Carly Rae Jepsen      Right Words Wrong Time 2020-07-30 09:22:00  2020   \n",
       "...                 ...                         ...                 ...   ...   \n",
       "95682  Carly Rae Jepsen            Let's Be Friends 2021-07-30 18:16:00  2021   \n",
       "95683        Mae Muller                   Therapist 2021-07-30 18:19:00  2021   \n",
       "95684     Lindsay Lohan  Bossy - Main Version Clean 2021-07-30 18:23:00  2021   \n",
       "95685           Tei Shi               Die 4 Ur Love 2021-07-30 18:27:00  2021   \n",
       "95686      Taylor Swift                       Dress 2021-07-30 18:31:00  2021   \n",
       "\n",
       "       month  day  weekday      time  hours   day-name  Count  \\\n",
       "0          7   29        2  14:30:00     14  Wednesday      1   \n",
       "1          7   29        2  23:02:00     23  Wednesday      1   \n",
       "2          7   30        3  09:21:00      9   Thursday      1   \n",
       "3          7   30        3  09:21:00      9   Thursday      1   \n",
       "4          7   30        3  09:22:00      9   Thursday      1   \n",
       "...      ...  ...      ...       ...    ...        ...    ...   \n",
       "95682      7   30        4  18:16:00     18     Friday      1   \n",
       "95683      7   30        4  18:19:00     18     Friday      1   \n",
       "95684      7   30        4  18:23:00     18     Friday      1   \n",
       "95685      7   30        4  18:27:00     18     Friday      1   \n",
       "95686      7   30        4  18:31:00     18     Friday      1   \n",
       "\n",
       "       Listening Time(Hours)  Listening Time(Minutes)  \n",
       "0                      0.054                    3.250  \n",
       "1                      0.008                    0.467  \n",
       "2                      0.010                    0.600  \n",
       "3                      0.060                    3.617  \n",
       "4                      0.000                    0.000  \n",
       "...                      ...                      ...  \n",
       "95682                  0.053                    3.167  \n",
       "95683                  0.051                    3.050  \n",
       "95684                  0.069                    4.167  \n",
       "95685                  0.055                    3.317  \n",
       "95686                  0.064                    3.833  \n",
       "\n",
       "[95687 rows x 13 columns]"
      ]
     },
     "execution_count": 14,
     "metadata": {},
     "output_type": "execute_result"
    }
   ],
   "source": [
    "df"
   ]
  },
  {
   "cell_type": "markdown",
   "metadata": {
    "tags": []
   },
   "source": [
    "<br>"
   ]
  },
  {
   "cell_type": "markdown",
   "metadata": {
    "tags": []
   },
   "source": [
    "<br>"
   ]
  },
  {
   "cell_type": "markdown",
   "metadata": {
    "tags": []
   },
   "source": [
    "<br>"
   ]
  },
  {
   "cell_type": "markdown",
   "metadata": {},
   "source": [
    "Another way to get an overview and quick view of status is by using the descibe method. this allows us to see such things as min and max values, standard deviation, mean, etc."
   ]
  },
  {
   "cell_type": "markdown",
   "metadata": {
    "tags": []
   },
   "source": [
    "<br>"
   ]
  },
  {
   "cell_type": "markdown",
   "metadata": {
    "tags": []
   },
   "source": [
    "<br>"
   ]
  },
  {
   "cell_type": "code",
   "execution_count": 15,
   "metadata": {},
   "outputs": [
    {
     "data": {
      "text/html": [
       "<div>\n",
       "<style scoped>\n",
       "    .dataframe tbody tr th:only-of-type {\n",
       "        vertical-align: middle;\n",
       "    }\n",
       "\n",
       "    .dataframe tbody tr th {\n",
       "        vertical-align: top;\n",
       "    }\n",
       "\n",
       "    .dataframe thead th {\n",
       "        text-align: right;\n",
       "    }\n",
       "</style>\n",
       "<table border=\"1\" class=\"dataframe\">\n",
       "  <thead>\n",
       "    <tr style=\"text-align: right;\">\n",
       "      <th></th>\n",
       "      <th>year</th>\n",
       "      <th>month</th>\n",
       "      <th>day</th>\n",
       "      <th>weekday</th>\n",
       "      <th>hours</th>\n",
       "      <th>Count</th>\n",
       "      <th>Listening Time(Hours)</th>\n",
       "      <th>Listening Time(Minutes)</th>\n",
       "    </tr>\n",
       "  </thead>\n",
       "  <tbody>\n",
       "    <tr>\n",
       "      <th>count</th>\n",
       "      <td>95687.000000</td>\n",
       "      <td>95687.000000</td>\n",
       "      <td>95687.000000</td>\n",
       "      <td>95687.000000</td>\n",
       "      <td>95687.000000</td>\n",
       "      <td>95687.0</td>\n",
       "      <td>95687.000000</td>\n",
       "      <td>95687.000000</td>\n",
       "    </tr>\n",
       "    <tr>\n",
       "      <th>mean</th>\n",
       "      <td>2020.688474</td>\n",
       "      <td>5.494539</td>\n",
       "      <td>15.980144</td>\n",
       "      <td>3.038898</td>\n",
       "      <td>14.511114</td>\n",
       "      <td>1.0</td>\n",
       "      <td>0.018991</td>\n",
       "      <td>1.137574</td>\n",
       "    </tr>\n",
       "    <tr>\n",
       "      <th>std</th>\n",
       "      <td>0.463120</td>\n",
       "      <td>3.356882</td>\n",
       "      <td>9.078682</td>\n",
       "      <td>2.010645</td>\n",
       "      <td>4.807954</td>\n",
       "      <td>0.0</td>\n",
       "      <td>0.029928</td>\n",
       "      <td>1.722305</td>\n",
       "    </tr>\n",
       "    <tr>\n",
       "      <th>min</th>\n",
       "      <td>2020.000000</td>\n",
       "      <td>1.000000</td>\n",
       "      <td>1.000000</td>\n",
       "      <td>0.000000</td>\n",
       "      <td>0.000000</td>\n",
       "      <td>1.0</td>\n",
       "      <td>0.000000</td>\n",
       "      <td>0.000000</td>\n",
       "    </tr>\n",
       "    <tr>\n",
       "      <th>25%</th>\n",
       "      <td>2020.000000</td>\n",
       "      <td>3.000000</td>\n",
       "      <td>8.000000</td>\n",
       "      <td>1.000000</td>\n",
       "      <td>11.000000</td>\n",
       "      <td>1.0</td>\n",
       "      <td>0.000000</td>\n",
       "      <td>0.000000</td>\n",
       "    </tr>\n",
       "    <tr>\n",
       "      <th>50%</th>\n",
       "      <td>2021.000000</td>\n",
       "      <td>5.000000</td>\n",
       "      <td>16.000000</td>\n",
       "      <td>3.000000</td>\n",
       "      <td>14.000000</td>\n",
       "      <td>1.0</td>\n",
       "      <td>0.000000</td>\n",
       "      <td>0.017000</td>\n",
       "    </tr>\n",
       "    <tr>\n",
       "      <th>75%</th>\n",
       "      <td>2021.000000</td>\n",
       "      <td>8.000000</td>\n",
       "      <td>24.000000</td>\n",
       "      <td>5.000000</td>\n",
       "      <td>18.000000</td>\n",
       "      <td>1.0</td>\n",
       "      <td>0.046000</td>\n",
       "      <td>2.783000</td>\n",
       "    </tr>\n",
       "    <tr>\n",
       "      <th>max</th>\n",
       "      <td>2021.000000</td>\n",
       "      <td>12.000000</td>\n",
       "      <td>31.000000</td>\n",
       "      <td>6.000000</td>\n",
       "      <td>23.000000</td>\n",
       "      <td>1.0</td>\n",
       "      <td>1.346000</td>\n",
       "      <td>45.400000</td>\n",
       "    </tr>\n",
       "  </tbody>\n",
       "</table>\n",
       "</div>"
      ],
      "text/plain": [
       "               year         month           day       weekday         hours  \\\n",
       "count  95687.000000  95687.000000  95687.000000  95687.000000  95687.000000   \n",
       "mean    2020.688474      5.494539     15.980144      3.038898     14.511114   \n",
       "std        0.463120      3.356882      9.078682      2.010645      4.807954   \n",
       "min     2020.000000      1.000000      1.000000      0.000000      0.000000   \n",
       "25%     2020.000000      3.000000      8.000000      1.000000     11.000000   \n",
       "50%     2021.000000      5.000000     16.000000      3.000000     14.000000   \n",
       "75%     2021.000000      8.000000     24.000000      5.000000     18.000000   \n",
       "max     2021.000000     12.000000     31.000000      6.000000     23.000000   \n",
       "\n",
       "         Count  Listening Time(Hours)  Listening Time(Minutes)  \n",
       "count  95687.0           95687.000000             95687.000000  \n",
       "mean       1.0               0.018991                 1.137574  \n",
       "std        0.0               0.029928                 1.722305  \n",
       "min        1.0               0.000000                 0.000000  \n",
       "25%        1.0               0.000000                 0.000000  \n",
       "50%        1.0               0.000000                 0.017000  \n",
       "75%        1.0               0.046000                 2.783000  \n",
       "max        1.0               1.346000                45.400000  "
      ]
     },
     "execution_count": 15,
     "metadata": {},
     "output_type": "execute_result"
    }
   ],
   "source": [
    "df.describe()"
   ]
  },
  {
   "cell_type": "markdown",
   "metadata": {
    "tags": []
   },
   "source": [
    "<br>"
   ]
  },
  {
   "cell_type": "markdown",
   "metadata": {
    "tags": []
   },
   "source": [
    "<br>"
   ]
  },
  {
   "cell_type": "markdown",
   "metadata": {
    "tags": []
   },
   "source": [
    "<br>"
   ]
  },
  {
   "cell_type": "markdown",
   "metadata": {},
   "source": [
    "# Exploratory Analysis + Visualisation\n",
    "***"
   ]
  },
  {
   "cell_type": "markdown",
   "metadata": {
    "tags": []
   },
   "source": [
    "<br>"
   ]
  },
  {
   "cell_type": "markdown",
   "metadata": {
    "tags": []
   },
   "source": [
    "<br>"
   ]
  },
  {
   "cell_type": "markdown",
   "metadata": {},
   "source": [
    "### Artist Analysis"
   ]
  },
  {
   "cell_type": "markdown",
   "metadata": {
    "tags": []
   },
   "source": [
    "<br>"
   ]
  },
  {
   "cell_type": "markdown",
   "metadata": {},
   "source": [
    "Let's have a deeper look at my listening habits. First let's look at the number of artists and what percentage of them are unique."
   ]
  },
  {
   "cell_type": "markdown",
   "metadata": {
    "tags": []
   },
   "source": [
    "<br>"
   ]
  },
  {
   "cell_type": "code",
   "execution_count": 16,
   "metadata": {},
   "outputs": [
    {
     "data": {
      "text/plain": [
       "95687"
      ]
     },
     "execution_count": 16,
     "metadata": {},
     "output_type": "execute_result"
    }
   ],
   "source": [
    "# The number of artist's in my streaming history\n",
    "num_artists = df['artistName'].count()\n",
    "num_artists"
   ]
  },
  {
   "cell_type": "markdown",
   "metadata": {
    "tags": []
   },
   "source": [
    "<br>"
   ]
  },
  {
   "cell_type": "markdown",
   "metadata": {
    "tags": []
   },
   "source": [
    "<br>"
   ]
  },
  {
   "cell_type": "code",
   "execution_count": 17,
   "metadata": {},
   "outputs": [
    {
     "data": {
      "text/plain": [
       "2899"
      ]
     },
     "execution_count": 17,
     "metadata": {},
     "output_type": "execute_result"
    }
   ],
   "source": [
    "# The number of these artists which are unique i.e.(there name appears at least once)\n",
    "unique_artists = df['artistName'].nunique()\n",
    "unique_artists"
   ]
  },
  {
   "cell_type": "markdown",
   "metadata": {
    "tags": []
   },
   "source": [
    "<br>"
   ]
  },
  {
   "cell_type": "markdown",
   "metadata": {
    "tags": []
   },
   "source": [
    "<br>"
   ]
  },
  {
   "cell_type": "code",
   "execution_count": 18,
   "metadata": {},
   "outputs": [
    {
     "data": {
      "text/plain": [
       "3.03"
      ]
     },
     "execution_count": 18,
     "metadata": {},
     "output_type": "execute_result"
    }
   ],
   "source": [
    "# Getting the % difference\n",
    "unique_percentage = unique_artists/num_artists*100\n",
    "unique_percentage.round(3)"
   ]
  },
  {
   "cell_type": "markdown",
   "metadata": {
    "tags": []
   },
   "source": [
    "<br>"
   ]
  },
  {
   "cell_type": "markdown",
   "metadata": {
    "tags": []
   },
   "source": [
    "<br>"
   ]
  },
  {
   "cell_type": "markdown",
   "metadata": {},
   "source": [
    "Let's visualise these findings "
   ]
  },
  {
   "cell_type": "markdown",
   "metadata": {
    "tags": []
   },
   "source": [
    "<br>"
   ]
  },
  {
   "cell_type": "markdown",
   "metadata": {
    "tags": []
   },
   "source": [
    "<br>"
   ]
  },
  {
   "cell_type": "code",
   "execution_count": 19,
   "metadata": {
    "tags": []
   },
   "outputs": [
    {
     "data": {
      "text/plain": [
       "<matplotlib.patches.Circle at 0x20178454520>"
      ]
     },
     "execution_count": 19,
     "metadata": {},
     "output_type": "execute_result"
    },
    {
     "data": {
      "image/png": "[encoded data removed]",
      "text/plain": [
       "<Figure size 864x432 with 1 Axes>"
      ]
     },
     "metadata": {},
     "output_type": "display_data"
    }
   ],
   "source": [
    "# Make an array out of the results\n",
    "unique_artist_list = np.array([unique_artists, num_artists-unique_artists]) \n",
    "\n",
    "# Make a label for them\n",
    "unique_artist_list_labels = [\" Unique Artists\", \"Non Unique Artists\"] \n",
    "\n",
    "# Creating a figure\n",
    "fig, ax = plt.subplots(figsize=(12,6)) \n",
    "# Data, lables, colours, %\n",
    "plt.pie(unique_artist_list, labels= unique_artist_list_labels, colors='kg', autopct='%1.1f%%') \n",
    "\n",
    "# Adding a title\n",
    "plt.title(\"Unique Artist %\")\n",
    "\n",
    "# Adding a circle at the center to make it a donut chart\n",
    "my_circle=plt.Circle( (0,0), 0.8, color='white')\n",
    "p=plt.gcf()\n",
    "p.gca().add_artist(my_circle)"
   ]
  },
  {
   "cell_type": "markdown",
   "metadata": {
    "tags": []
   },
   "source": [
    "<br>"
   ]
  },
  {
   "cell_type": "markdown",
   "metadata": {
    "tags": []
   },
   "source": [
    "<br>"
   ]
  },
  {
   "cell_type": "markdown",
   "metadata": {
    "tags": []
   },
   "source": [
    "<br>"
   ]
  },
  {
   "cell_type": "markdown",
   "metadata": {},
   "source": [
    "From this we can see that the majority of my listening time is made up of listening to the same artists. I do so just over 97% of the time. \n",
    "\n",
    "Let's take a closer look at the artists are. We can do this by creating a new dataframe of consisting of the relevant columns, in this case - Artist Name, Listening Time in Hours, Listening Time in Minutes and Count i.e. the amount of times a song by the artist has been played."
   ]
  },
  {
   "cell_type": "markdown",
   "metadata": {
    "tags": []
   },
   "source": [
    "<br>"
   ]
  },
  {
   "cell_type": "markdown",
   "metadata": {
    "tags": []
   },
   "source": [
    "<br>"
   ]
  },
  {
   "cell_type": "markdown",
   "metadata": {
    "tags": []
   },
   "source": [
    "<br>"
   ]
  },
  {
   "cell_type": "code",
   "execution_count": 20,
   "metadata": {
    "tags": []
   },
   "outputs": [
    {
     "data": {
      "text/html": [
       "<div>\n",
       "<style scoped>\n",
       "    .dataframe tbody tr th:only-of-type {\n",
       "        vertical-align: middle;\n",
       "    }\n",
       "\n",
       "    .dataframe tbody tr th {\n",
       "        vertical-align: top;\n",
       "    }\n",
       "\n",
       "    .dataframe thead th {\n",
       "        text-align: right;\n",
       "    }\n",
       "</style>\n",
       "<table border=\"1\" class=\"dataframe\">\n",
       "  <thead>\n",
       "    <tr style=\"text-align: right;\">\n",
       "      <th></th>\n",
       "      <th>Listening Time(Hours)</th>\n",
       "      <th>Listening Time(Minutes)</th>\n",
       "      <th>Count</th>\n",
       "    </tr>\n",
       "    <tr>\n",
       "      <th>artistName</th>\n",
       "      <th></th>\n",
       "      <th></th>\n",
       "      <th></th>\n",
       "    </tr>\n",
       "  </thead>\n",
       "  <tbody>\n",
       "    <tr>\n",
       "      <th>Carly Rae Jepsen</th>\n",
       "      <td>233.724</td>\n",
       "      <td>14025.877</td>\n",
       "      <td>9444</td>\n",
       "    </tr>\n",
       "    <tr>\n",
       "      <th>Madonna</th>\n",
       "      <td>71.629</td>\n",
       "      <td>4305.259</td>\n",
       "      <td>4109</td>\n",
       "    </tr>\n",
       "    <tr>\n",
       "      <th>Lady Gaga</th>\n",
       "      <td>59.593</td>\n",
       "      <td>3573.162</td>\n",
       "      <td>3131</td>\n",
       "    </tr>\n",
       "    <tr>\n",
       "      <th>Charli XCX</th>\n",
       "      <td>42.877</td>\n",
       "      <td>2578.627</td>\n",
       "      <td>2170</td>\n",
       "    </tr>\n",
       "    <tr>\n",
       "      <th>Róisín Murphy</th>\n",
       "      <td>56.278</td>\n",
       "      <td>3378.968</td>\n",
       "      <td>2062</td>\n",
       "    </tr>\n",
       "    <tr>\n",
       "      <th>Little Mix</th>\n",
       "      <td>40.069</td>\n",
       "      <td>2409.411</td>\n",
       "      <td>2029</td>\n",
       "    </tr>\n",
       "    <tr>\n",
       "      <th>Tove Lo</th>\n",
       "      <td>42.692</td>\n",
       "      <td>2569.079</td>\n",
       "      <td>1978</td>\n",
       "    </tr>\n",
       "    <tr>\n",
       "      <th>Katy Perry</th>\n",
       "      <td>30.918</td>\n",
       "      <td>1860.124</td>\n",
       "      <td>1877</td>\n",
       "    </tr>\n",
       "    <tr>\n",
       "      <th>St. Vincent</th>\n",
       "      <td>44.221</td>\n",
       "      <td>2652.991</td>\n",
       "      <td>1748</td>\n",
       "    </tr>\n",
       "    <tr>\n",
       "      <th>Beyoncé</th>\n",
       "      <td>21.318</td>\n",
       "      <td>1281.277</td>\n",
       "      <td>1569</td>\n",
       "    </tr>\n",
       "    <tr>\n",
       "      <th>Mariah Carey</th>\n",
       "      <td>26.439</td>\n",
       "      <td>1585.325</td>\n",
       "      <td>1452</td>\n",
       "    </tr>\n",
       "    <tr>\n",
       "      <th>Christine and the Queens</th>\n",
       "      <td>34.950</td>\n",
       "      <td>2100.887</td>\n",
       "      <td>1375</td>\n",
       "    </tr>\n",
       "    <tr>\n",
       "      <th>Dagny</th>\n",
       "      <td>30.488</td>\n",
       "      <td>1833.642</td>\n",
       "      <td>1264</td>\n",
       "    </tr>\n",
       "    <tr>\n",
       "      <th>Kylie Minogue</th>\n",
       "      <td>23.022</td>\n",
       "      <td>1382.164</td>\n",
       "      <td>1260</td>\n",
       "    </tr>\n",
       "    <tr>\n",
       "      <th>The Knife</th>\n",
       "      <td>31.386</td>\n",
       "      <td>1886.484</td>\n",
       "      <td>1237</td>\n",
       "    </tr>\n",
       "    <tr>\n",
       "      <th>MARINA</th>\n",
       "      <td>23.237</td>\n",
       "      <td>1394.775</td>\n",
       "      <td>1104</td>\n",
       "    </tr>\n",
       "    <tr>\n",
       "      <th>Nicki Minaj</th>\n",
       "      <td>19.978</td>\n",
       "      <td>1199.796</td>\n",
       "      <td>1032</td>\n",
       "    </tr>\n",
       "    <tr>\n",
       "      <th>HAIM</th>\n",
       "      <td>26.060</td>\n",
       "      <td>1560.389</td>\n",
       "      <td>957</td>\n",
       "    </tr>\n",
       "    <tr>\n",
       "      <th>Rina Sawayama</th>\n",
       "      <td>19.613</td>\n",
       "      <td>1175.746</td>\n",
       "      <td>784</td>\n",
       "    </tr>\n",
       "    <tr>\n",
       "      <th>Sigrid</th>\n",
       "      <td>16.762</td>\n",
       "      <td>1006.717</td>\n",
       "      <td>759</td>\n",
       "    </tr>\n",
       "  </tbody>\n",
       "</table>\n",
       "</div>"
      ],
      "text/plain": [
       "                          Listening Time(Hours)  Listening Time(Minutes)  \\\n",
       "artistName                                                                 \n",
       "Carly Rae Jepsen                        233.724                14025.877   \n",
       "Madonna                                  71.629                 4305.259   \n",
       "Lady Gaga                                59.593                 3573.162   \n",
       "Charli XCX                               42.877                 2578.627   \n",
       "Róisín Murphy                            56.278                 3378.968   \n",
       "Little Mix                               40.069                 2409.411   \n",
       "Tove Lo                                  42.692                 2569.079   \n",
       "Katy Perry                               30.918                 1860.124   \n",
       "St. Vincent                              44.221                 2652.991   \n",
       "Beyoncé                                  21.318                 1281.277   \n",
       "Mariah Carey                             26.439                 1585.325   \n",
       "Christine and the Queens                 34.950                 2100.887   \n",
       "Dagny                                    30.488                 1833.642   \n",
       "Kylie Minogue                            23.022                 1382.164   \n",
       "The Knife                                31.386                 1886.484   \n",
       "MARINA                                   23.237                 1394.775   \n",
       "Nicki Minaj                              19.978                 1199.796   \n",
       "HAIM                                     26.060                 1560.389   \n",
       "Rina Sawayama                            19.613                 1175.746   \n",
       "Sigrid                                   16.762                 1006.717   \n",
       "\n",
       "                          Count  \n",
       "artistName                       \n",
       "Carly Rae Jepsen           9444  \n",
       "Madonna                    4109  \n",
       "Lady Gaga                  3131  \n",
       "Charli XCX                 2170  \n",
       "Róisín Murphy              2062  \n",
       "Little Mix                 2029  \n",
       "Tove Lo                    1978  \n",
       "Katy Perry                 1877  \n",
       "St. Vincent                1748  \n",
       "Beyoncé                    1569  \n",
       "Mariah Carey               1452  \n",
       "Christine and the Queens   1375  \n",
       "Dagny                      1264  \n",
       "Kylie Minogue              1260  \n",
       "The Knife                  1237  \n",
       "MARINA                     1104  \n",
       "Nicki Minaj                1032  \n",
       "HAIM                        957  \n",
       "Rina Sawayama               784  \n",
       "Sigrid                      759  "
      ]
     },
     "execution_count": 20,
     "metadata": {},
     "output_type": "execute_result"
    }
   ],
   "source": [
    "# Getting sum of the relevant columns from the orignal dataframe and ordering them by the amount of times they have been played, most played first \n",
    "top_artists = df.groupby(['artistName'])[[\"Listening Time(Hours)\",\"Listening Time(Minutes)\",\"Count\"]].sum().sort_values(by=\"Count\",ascending=False)\n",
    "\n",
    "# Seeing my top 20 artists\n",
    "top_artists.head(20) "
   ]
  },
  {
   "cell_type": "markdown",
   "metadata": {
    "tags": []
   },
   "source": [
    "<br>"
   ]
  },
  {
   "cell_type": "markdown",
   "metadata": {
    "tags": []
   },
   "source": [
    "<br>"
   ]
  },
  {
   "cell_type": "markdown",
   "metadata": {
    "tags": []
   },
   "source": [
    "<br>"
   ]
  },
  {
   "cell_type": "code",
   "execution_count": 21,
   "metadata": {
    "tags": []
   },
   "outputs": [
    {
     "data": {
      "text/plain": [
       "Text(0.5, 1.0, 'Top Artists (Times Played)')"
      ]
     },
     "execution_count": 21,
     "metadata": {},
     "output_type": "execute_result"
    },
    {
     "data": {
      "image/png": "[encoded data removed]",
      "text/plain": [
       "<Figure size 1440x432 with 1 Axes>"
      ]
     },
     "metadata": {
      "needs_background": "light"
     },
     "output_type": "display_data"
    }
   ],
   "source": [
    "# Visualising the top_artists dataframe and using iloc[:10] to limit it to the top 10 artists\n",
    "\n",
    "plt.figure(figsize=(20,6))\n",
    "sns.countplot(y=df['artistName'], data=top_artists, order=df['artistName'].value_counts().iloc[:10].index, palette='coolwarm_r')\n",
    "plt.ylabel = ('Times Played')\n",
    "plt.title('Top Artists (Times Played)')"
   ]
  },
  {
   "cell_type": "markdown",
   "metadata": {
    "tags": []
   },
   "source": [
    "<br>"
   ]
  },
  {
   "cell_type": "markdown",
   "metadata": {
    "tags": []
   },
   "source": [
    "<br>"
   ]
  },
  {
   "cell_type": "markdown",
   "metadata": {
    "tags": []
   },
   "source": [
    "<br>"
   ]
  },
  {
   "cell_type": "markdown",
   "metadata": {},
   "source": [
    "From the data above we can see that the number of times playing a song from an artists is different from the amount of time spent listening to an artist. This is intresting to information to see.\n",
    "\n",
    "For example: I have listened to Charli XCX who is in 4th place for 2578.627 minutes which translates as playing her 2170 times. Whereas, 5th place Róisín Murphy I have listened to for a greater period of time - 3378.968 minutes but, have only played her 2062 times. To me the difference comes down to song lenght. As Charli XCX performs more short hyper-pop/pop tracks. Whereas Róisín Murphy's music is electronic/dance-pop which is for the most part longer in duration.\n",
    "\n",
    "Below I will use the same dataframe as above but, this time order it by the lenght of time listened in minutes. I chose minutes as that is the time measurement Spotify uses in its end of year Spotify Unwrapped."
   ]
  },
  {
   "cell_type": "markdown",
   "metadata": {
    "tags": []
   },
   "source": [
    "<br>"
   ]
  },
  {
   "cell_type": "markdown",
   "metadata": {
    "tags": []
   },
   "source": [
    "<br>"
   ]
  },
  {
   "cell_type": "markdown",
   "metadata": {
    "tags": []
   },
   "source": [
    "<br>"
   ]
  },
  {
   "cell_type": "code",
   "execution_count": 22,
   "metadata": {
    "tags": []
   },
   "outputs": [
    {
     "data": {
      "text/html": [
       "<div>\n",
       "<style scoped>\n",
       "    .dataframe tbody tr th:only-of-type {\n",
       "        vertical-align: middle;\n",
       "    }\n",
       "\n",
       "    .dataframe tbody tr th {\n",
       "        vertical-align: top;\n",
       "    }\n",
       "\n",
       "    .dataframe thead th {\n",
       "        text-align: right;\n",
       "    }\n",
       "</style>\n",
       "<table border=\"1\" class=\"dataframe\">\n",
       "  <thead>\n",
       "    <tr style=\"text-align: right;\">\n",
       "      <th></th>\n",
       "      <th>Listening Time(Hours)</th>\n",
       "      <th>Listening Time(Minutes)</th>\n",
       "      <th>Count</th>\n",
       "    </tr>\n",
       "    <tr>\n",
       "      <th>artistName</th>\n",
       "      <th></th>\n",
       "      <th></th>\n",
       "      <th></th>\n",
       "    </tr>\n",
       "  </thead>\n",
       "  <tbody>\n",
       "    <tr>\n",
       "      <th>Carly Rae Jepsen</th>\n",
       "      <td>233.724</td>\n",
       "      <td>14025.877</td>\n",
       "      <td>9444</td>\n",
       "    </tr>\n",
       "    <tr>\n",
       "      <th>Madonna</th>\n",
       "      <td>71.629</td>\n",
       "      <td>4305.259</td>\n",
       "      <td>4109</td>\n",
       "    </tr>\n",
       "    <tr>\n",
       "      <th>Lady Gaga</th>\n",
       "      <td>59.593</td>\n",
       "      <td>3573.162</td>\n",
       "      <td>3131</td>\n",
       "    </tr>\n",
       "    <tr>\n",
       "      <th>Róisín Murphy</th>\n",
       "      <td>56.278</td>\n",
       "      <td>3378.968</td>\n",
       "      <td>2062</td>\n",
       "    </tr>\n",
       "    <tr>\n",
       "      <th>St. Vincent</th>\n",
       "      <td>44.221</td>\n",
       "      <td>2652.991</td>\n",
       "      <td>1748</td>\n",
       "    </tr>\n",
       "    <tr>\n",
       "      <th>Charli XCX</th>\n",
       "      <td>42.877</td>\n",
       "      <td>2578.627</td>\n",
       "      <td>2170</td>\n",
       "    </tr>\n",
       "    <tr>\n",
       "      <th>Tove Lo</th>\n",
       "      <td>42.692</td>\n",
       "      <td>2569.079</td>\n",
       "      <td>1978</td>\n",
       "    </tr>\n",
       "    <tr>\n",
       "      <th>Little Mix</th>\n",
       "      <td>40.069</td>\n",
       "      <td>2409.411</td>\n",
       "      <td>2029</td>\n",
       "    </tr>\n",
       "    <tr>\n",
       "      <th>Christine and the Queens</th>\n",
       "      <td>34.950</td>\n",
       "      <td>2100.887</td>\n",
       "      <td>1375</td>\n",
       "    </tr>\n",
       "    <tr>\n",
       "      <th>The Knife</th>\n",
       "      <td>31.386</td>\n",
       "      <td>1886.484</td>\n",
       "      <td>1237</td>\n",
       "    </tr>\n",
       "    <tr>\n",
       "      <th>Katy Perry</th>\n",
       "      <td>30.918</td>\n",
       "      <td>1860.124</td>\n",
       "      <td>1877</td>\n",
       "    </tr>\n",
       "    <tr>\n",
       "      <th>Dagny</th>\n",
       "      <td>30.488</td>\n",
       "      <td>1833.642</td>\n",
       "      <td>1264</td>\n",
       "    </tr>\n",
       "    <tr>\n",
       "      <th>Mariah Carey</th>\n",
       "      <td>26.439</td>\n",
       "      <td>1585.325</td>\n",
       "      <td>1452</td>\n",
       "    </tr>\n",
       "    <tr>\n",
       "      <th>HAIM</th>\n",
       "      <td>26.060</td>\n",
       "      <td>1560.389</td>\n",
       "      <td>957</td>\n",
       "    </tr>\n",
       "    <tr>\n",
       "      <th>MARINA</th>\n",
       "      <td>23.237</td>\n",
       "      <td>1394.775</td>\n",
       "      <td>1104</td>\n",
       "    </tr>\n",
       "    <tr>\n",
       "      <th>Kylie Minogue</th>\n",
       "      <td>23.022</td>\n",
       "      <td>1382.164</td>\n",
       "      <td>1260</td>\n",
       "    </tr>\n",
       "    <tr>\n",
       "      <th>Beyoncé</th>\n",
       "      <td>21.318</td>\n",
       "      <td>1281.277</td>\n",
       "      <td>1569</td>\n",
       "    </tr>\n",
       "    <tr>\n",
       "      <th>Nicki Minaj</th>\n",
       "      <td>19.978</td>\n",
       "      <td>1199.796</td>\n",
       "      <td>1032</td>\n",
       "    </tr>\n",
       "    <tr>\n",
       "      <th>Rina Sawayama</th>\n",
       "      <td>19.613</td>\n",
       "      <td>1175.746</td>\n",
       "      <td>784</td>\n",
       "    </tr>\n",
       "    <tr>\n",
       "      <th>Lorde</th>\n",
       "      <td>17.815</td>\n",
       "      <td>1069.676</td>\n",
       "      <td>746</td>\n",
       "    </tr>\n",
       "  </tbody>\n",
       "</table>\n",
       "</div>"
      ],
      "text/plain": [
       "                          Listening Time(Hours)  Listening Time(Minutes)  \\\n",
       "artistName                                                                 \n",
       "Carly Rae Jepsen                        233.724                14025.877   \n",
       "Madonna                                  71.629                 4305.259   \n",
       "Lady Gaga                                59.593                 3573.162   \n",
       "Róisín Murphy                            56.278                 3378.968   \n",
       "St. Vincent                              44.221                 2652.991   \n",
       "Charli XCX                               42.877                 2578.627   \n",
       "Tove Lo                                  42.692                 2569.079   \n",
       "Little Mix                               40.069                 2409.411   \n",
       "Christine and the Queens                 34.950                 2100.887   \n",
       "The Knife                                31.386                 1886.484   \n",
       "Katy Perry                               30.918                 1860.124   \n",
       "Dagny                                    30.488                 1833.642   \n",
       "Mariah Carey                             26.439                 1585.325   \n",
       "HAIM                                     26.060                 1560.389   \n",
       "MARINA                                   23.237                 1394.775   \n",
       "Kylie Minogue                            23.022                 1382.164   \n",
       "Beyoncé                                  21.318                 1281.277   \n",
       "Nicki Minaj                              19.978                 1199.796   \n",
       "Rina Sawayama                            19.613                 1175.746   \n",
       "Lorde                                    17.815                 1069.676   \n",
       "\n",
       "                          Count  \n",
       "artistName                       \n",
       "Carly Rae Jepsen           9444  \n",
       "Madonna                    4109  \n",
       "Lady Gaga                  3131  \n",
       "Róisín Murphy              2062  \n",
       "St. Vincent                1748  \n",
       "Charli XCX                 2170  \n",
       "Tove Lo                    1978  \n",
       "Little Mix                 2029  \n",
       "Christine and the Queens   1375  \n",
       "The Knife                  1237  \n",
       "Katy Perry                 1877  \n",
       "Dagny                      1264  \n",
       "Mariah Carey               1452  \n",
       "HAIM                        957  \n",
       "MARINA                     1104  \n",
       "Kylie Minogue              1260  \n",
       "Beyoncé                    1569  \n",
       "Nicki Minaj                1032  \n",
       "Rina Sawayama               784  \n",
       "Lorde                       746  "
      ]
     },
     "execution_count": 22,
     "metadata": {},
     "output_type": "execute_result"
    }
   ],
   "source": [
    "# Getting sum of the relevant columns from the orignal dataframe and ordering them by the listening time in minutes \n",
    "top_artists_mins = df.groupby(['artistName'])[['artistName','Listening Time(Hours)','Listening Time(Minutes)','Count']].sum().sort_values(by='Listening Time(Minutes)',ascending=False)\n",
    "top_artists_mins.head(20) # Seeing my top 20 artists"
   ]
  },
  {
   "cell_type": "markdown",
   "metadata": {
    "tags": []
   },
   "source": [
    "<br>"
   ]
  },
  {
   "cell_type": "markdown",
   "metadata": {
    "tags": []
   },
   "source": [
    "<br>"
   ]
  },
  {
   "cell_type": "markdown",
   "metadata": {
    "tags": []
   },
   "source": [
    "<br>"
   ]
  },
  {
   "cell_type": "markdown",
   "metadata": {},
   "source": [
    "It's really intresting to see the change in ranking. Charli XCX has gone from 4th to 6th place. St. Vincent who was 9th in the count ranking has moved up to 5th place. Lorde who didn't make the top 20 in the previous dataframe is now in the top 20 based on the amount of minutes spent listening. \n",
    "\n",
    "Using the WordCloud libary I can make a wordcloud out of my favourite artists, I will do so based on the number of times played(count)"
   ]
  },
  {
   "cell_type": "markdown",
   "metadata": {
    "tags": []
   },
   "source": [
    "<br>"
   ]
  },
  {
   "cell_type": "markdown",
   "metadata": {
    "tags": []
   },
   "source": [
    "<br>"
   ]
  },
  {
   "cell_type": "code",
   "execution_count": 23,
   "metadata": {},
   "outputs": [],
   "source": [
    "# Creating a new dataframe for the wordcloud\n",
    "fav_artist = df.groupby([\"artistName\"])[\"Count\"].count()"
   ]
  },
  {
   "cell_type": "markdown",
   "metadata": {
    "tags": []
   },
   "source": [
    "<br>"
   ]
  },
  {
   "cell_type": "code",
   "execution_count": 24,
   "metadata": {},
   "outputs": [
    {
     "data": {
      "text/plain": [
       "(-0.5, 499.5, 249.5, -0.5)"
      ]
     },
     "execution_count": 24,
     "metadata": {},
     "output_type": "execute_result"
    },
    {
     "data": {
      "image/png": "[encoded data removed]",
      "text/plain": [
       "<Figure size 1080x1440 with 1 Axes>"
      ]
     },
     "metadata": {
      "needs_background": "light"
     },
     "output_type": "display_data"
    }
   ],
   "source": [
    "# Creating a wordcloud\n",
    "fig, ax = plt.subplots(figsize=(15,20))\n",
    "\n",
    "wordcloud = WordCloud(width = 500, height = 250, background_color ='white', min_font_size = 10).generate_from_frequencies(fav_artist)\n",
    "\n",
    "ax.imshow(wordcloud, interpolation='bilinear')\n",
    "plt.axis(False) # Hiding the axis"
   ]
  },
  {
   "cell_type": "markdown",
   "metadata": {
    "tags": []
   },
   "source": [
    "<br>"
   ]
  },
  {
   "cell_type": "markdown",
   "metadata": {
    "tags": []
   },
   "source": [
    "<br>"
   ]
  },
  {
   "cell_type": "markdown",
   "metadata": {
    "tags": []
   },
   "source": [
    "<br>"
   ]
  },
  {
   "cell_type": "markdown",
   "metadata": {
    "tags": []
   },
   "source": [
    "<br>"
   ]
  },
  {
   "cell_type": "markdown",
   "metadata": {},
   "source": [
    "### Track Analysis"
   ]
  },
  {
   "cell_type": "markdown",
   "metadata": {
    "tags": []
   },
   "source": [
    "<br>"
   ]
  },
  {
   "cell_type": "markdown",
   "metadata": {
    "tags": []
   },
   "source": [
    "<br>"
   ]
  },
  {
   "cell_type": "code",
   "execution_count": 25,
   "metadata": {},
   "outputs": [
    {
     "data": {
      "text/plain": [
       "95687"
      ]
     },
     "execution_count": 25,
     "metadata": {},
     "output_type": "execute_result"
    }
   ],
   "source": [
    "# The number of songs in my streaming history\n",
    "num_tracks = df['trackName'].count()\n",
    "num_tracks"
   ]
  },
  {
   "cell_type": "markdown",
   "metadata": {
    "tags": []
   },
   "source": [
    "<br>"
   ]
  },
  {
   "cell_type": "markdown",
   "metadata": {
    "tags": []
   },
   "source": [
    "<br>"
   ]
  },
  {
   "cell_type": "code",
   "execution_count": 26,
   "metadata": {},
   "outputs": [
    {
     "data": {
      "text/plain": [
       "9154"
      ]
     },
     "execution_count": 26,
     "metadata": {},
     "output_type": "execute_result"
    }
   ],
   "source": [
    "# The number of songs which are unique i.e.(ppears at least once)\n",
    "unique_tracks = df['trackName'].nunique()\n",
    "unique_tracks"
   ]
  },
  {
   "cell_type": "markdown",
   "metadata": {
    "tags": []
   },
   "source": [
    "<br>"
   ]
  },
  {
   "cell_type": "markdown",
   "metadata": {
    "tags": []
   },
   "source": [
    "<br>"
   ]
  },
  {
   "cell_type": "code",
   "execution_count": 27,
   "metadata": {},
   "outputs": [
    {
     "data": {
      "text/plain": [
       "9.57"
      ]
     },
     "execution_count": 27,
     "metadata": {},
     "output_type": "execute_result"
    }
   ],
   "source": [
    "# Getting the % difference\n",
    "unique_percentage = unique_tracks/num_tracks*100\n",
    "unique_percentage.round(2)"
   ]
  },
  {
   "cell_type": "markdown",
   "metadata": {
    "tags": []
   },
   "source": [
    "<br>"
   ]
  },
  {
   "cell_type": "markdown",
   "metadata": {
    "tags": []
   },
   "source": [
    "<br>"
   ]
  },
  {
   "cell_type": "code",
   "execution_count": 28,
   "metadata": {},
   "outputs": [
    {
     "data": {
      "text/plain": [
       "<matplotlib.patches.Circle at 0x20179d85910>"
      ]
     },
     "execution_count": 28,
     "metadata": {},
     "output_type": "execute_result"
    },
    {
     "data": {
      "image/png": "[encoded data removed]",
      "text/plain": [
       "<Figure size 864x432 with 1 Axes>"
      ]
     },
     "metadata": {},
     "output_type": "display_data"
    }
   ],
   "source": [
    "unique_tracks_list = np.array([unique_tracks, num_tracks-unique_tracks])  # Make an array out of the results\n",
    "unique_tracks_list_labels = [\" Unique Tracks\", \"Non Unique Tracks\"] # Adding labels\n",
    "\n",
    "fig, ax = plt.subplots(figsize=(12,6))\n",
    "ax.pie(unique_tracks_list, labels= unique_tracks_list_labels, colors='kg', autopct='%1.1f%%') # Data, labels, colour, %\n",
    "plt.title(\"Unique Track Percentage\")\n",
    "\n",
    "# Adding a circle at the center to make it a donut chart\n",
    "my_circle=plt.Circle( (0,0), 0.8, color='white')\n",
    "p=plt.gcf()\n",
    "p.gca().add_artist(my_circle)"
   ]
  },
  {
   "cell_type": "markdown",
   "metadata": {
    "tags": []
   },
   "source": [
    "<br>"
   ]
  },
  {
   "cell_type": "markdown",
   "metadata": {
    "tags": []
   },
   "source": [
    "<br>"
   ]
  },
  {
   "cell_type": "markdown",
   "metadata": {
    "tags": []
   },
   "source": [
    "<br>"
   ]
  },
  {
   "cell_type": "markdown",
   "metadata": {},
   "source": [
    "Again, we can see that the majority of my listening time is consists of listening to the same tracks. Although, it's 7.6% less when compared to listening to the same artists. The observations I make from this is that I listen to an artist's profile and listen to their back catalogue/deep cuts. I also regularly listen to the Discover Weekly playlist which the Spotify algorithm creates based off your listening habits the previous week. Additionally, If listening to a playlist or song, Spotify will play a radio based on what you where listening to when it ends. I think this has made the % marginally larger.\n",
    "\n",
    "Let's take a closer look at the artists are. We can do this by creating a new dataframe of consisting of the relevant columns, in this case - Track Name, Listening Time in Hours, Listening Time in Minutes and Count i.e. the amount of times a song has been played."
   ]
  },
  {
   "cell_type": "markdown",
   "metadata": {
    "tags": []
   },
   "source": [
    "<br>"
   ]
  },
  {
   "cell_type": "markdown",
   "metadata": {
    "tags": []
   },
   "source": [
    "<br>"
   ]
  },
  {
   "cell_type": "code",
   "execution_count": 29,
   "metadata": {
    "tags": []
   },
   "outputs": [
    {
     "data": {
      "text/html": [
       "<div>\n",
       "<style scoped>\n",
       "    .dataframe tbody tr th:only-of-type {\n",
       "        vertical-align: middle;\n",
       "    }\n",
       "\n",
       "    .dataframe tbody tr th {\n",
       "        vertical-align: top;\n",
       "    }\n",
       "\n",
       "    .dataframe thead th {\n",
       "        text-align: right;\n",
       "    }\n",
       "</style>\n",
       "<table border=\"1\" class=\"dataframe\">\n",
       "  <thead>\n",
       "    <tr style=\"text-align: right;\">\n",
       "      <th></th>\n",
       "      <th>Listening Time(Hours)</th>\n",
       "      <th>Listening Time(Minutes)</th>\n",
       "      <th>Count</th>\n",
       "    </tr>\n",
       "    <tr>\n",
       "      <th>trackName</th>\n",
       "      <th></th>\n",
       "      <th></th>\n",
       "      <th></th>\n",
       "    </tr>\n",
       "  </thead>\n",
       "  <tbody>\n",
       "    <tr>\n",
       "      <th>Comeback</th>\n",
       "      <td>10.072</td>\n",
       "      <td>604.821</td>\n",
       "      <td>287</td>\n",
       "    </tr>\n",
       "    <tr>\n",
       "      <th>Let’s Get Lost</th>\n",
       "      <td>6.982</td>\n",
       "      <td>416.522</td>\n",
       "      <td>257</td>\n",
       "    </tr>\n",
       "    <tr>\n",
       "      <th>Emotion</th>\n",
       "      <td>6.317</td>\n",
       "      <td>377.455</td>\n",
       "      <td>246</td>\n",
       "    </tr>\n",
       "    <tr>\n",
       "      <th>I Really Like You</th>\n",
       "      <td>5.701</td>\n",
       "      <td>340.708</td>\n",
       "      <td>235</td>\n",
       "    </tr>\n",
       "    <tr>\n",
       "      <th>Making The Most Of The Night</th>\n",
       "      <td>7.546</td>\n",
       "      <td>453.655</td>\n",
       "      <td>229</td>\n",
       "    </tr>\n",
       "    <tr>\n",
       "      <th>Fever</th>\n",
       "      <td>6.215</td>\n",
       "      <td>373.664</td>\n",
       "      <td>222</td>\n",
       "    </tr>\n",
       "    <tr>\n",
       "      <th>Your Type</th>\n",
       "      <td>5.689</td>\n",
       "      <td>343.036</td>\n",
       "      <td>221</td>\n",
       "    </tr>\n",
       "    <tr>\n",
       "      <th>Call Me Maybe</th>\n",
       "      <td>6.193</td>\n",
       "      <td>369.386</td>\n",
       "      <td>217</td>\n",
       "    </tr>\n",
       "    <tr>\n",
       "      <th>Run Away With Me</th>\n",
       "      <td>7.570</td>\n",
       "      <td>453.068</td>\n",
       "      <td>214</td>\n",
       "    </tr>\n",
       "    <tr>\n",
       "      <th>Summer Love</th>\n",
       "      <td>6.410</td>\n",
       "      <td>385.767</td>\n",
       "      <td>211</td>\n",
       "    </tr>\n",
       "    <tr>\n",
       "      <th>This Love Isn't Crazy</th>\n",
       "      <td>6.622</td>\n",
       "      <td>396.300</td>\n",
       "      <td>211</td>\n",
       "    </tr>\n",
       "    <tr>\n",
       "      <th>So Hot You're Hurting My Feelings</th>\n",
       "      <td>5.312</td>\n",
       "      <td>318.023</td>\n",
       "      <td>211</td>\n",
       "    </tr>\n",
       "    <tr>\n",
       "      <th>Love Again - Bonus Track</th>\n",
       "      <td>7.820</td>\n",
       "      <td>467.653</td>\n",
       "      <td>209</td>\n",
       "    </tr>\n",
       "    <tr>\n",
       "      <th>When I Needed You</th>\n",
       "      <td>5.191</td>\n",
       "      <td>312.979</td>\n",
       "      <td>197</td>\n",
       "    </tr>\n",
       "    <tr>\n",
       "      <th>Rain On Me (with Ariana Grande)</th>\n",
       "      <td>5.372</td>\n",
       "      <td>320.177</td>\n",
       "      <td>197</td>\n",
       "    </tr>\n",
       "    <tr>\n",
       "      <th>Party For One</th>\n",
       "      <td>2.699</td>\n",
       "      <td>162.642</td>\n",
       "      <td>193</td>\n",
       "    </tr>\n",
       "    <tr>\n",
       "      <th>Number One Fan</th>\n",
       "      <td>4.650</td>\n",
       "      <td>279.110</td>\n",
       "      <td>190</td>\n",
       "    </tr>\n",
       "    <tr>\n",
       "      <th>Julien</th>\n",
       "      <td>4.856</td>\n",
       "      <td>291.490</td>\n",
       "      <td>186</td>\n",
       "    </tr>\n",
       "    <tr>\n",
       "      <th>The Steps</th>\n",
       "      <td>6.433</td>\n",
       "      <td>384.418</td>\n",
       "      <td>185</td>\n",
       "    </tr>\n",
       "    <tr>\n",
       "      <th>People, I've been sad</th>\n",
       "      <td>7.684</td>\n",
       "      <td>462.110</td>\n",
       "      <td>184</td>\n",
       "    </tr>\n",
       "  </tbody>\n",
       "</table>\n",
       "</div>"
      ],
      "text/plain": [
       "                                   Listening Time(Hours)  \\\n",
       "trackName                                                  \n",
       "Comeback                                          10.072   \n",
       "Let’s Get Lost                                     6.982   \n",
       "Emotion                                            6.317   \n",
       "I Really Like You                                  5.701   \n",
       "Making The Most Of The Night                       7.546   \n",
       "Fever                                              6.215   \n",
       "Your Type                                          5.689   \n",
       "Call Me Maybe                                      6.193   \n",
       "Run Away With Me                                   7.570   \n",
       "Summer Love                                        6.410   \n",
       "This Love Isn't Crazy                              6.622   \n",
       "So Hot You're Hurting My Feelings                  5.312   \n",
       "Love Again - Bonus Track                           7.820   \n",
       "When I Needed You                                  5.191   \n",
       "Rain On Me (with Ariana Grande)                    5.372   \n",
       "Party For One                                      2.699   \n",
       "Number One Fan                                     4.650   \n",
       "Julien                                             4.856   \n",
       "The Steps                                          6.433   \n",
       "People, I've been sad                              7.684   \n",
       "\n",
       "                                   Listening Time(Minutes)  Count  \n",
       "trackName                                                          \n",
       "Comeback                                           604.821    287  \n",
       "Let’s Get Lost                                     416.522    257  \n",
       "Emotion                                            377.455    246  \n",
       "I Really Like You                                  340.708    235  \n",
       "Making The Most Of The Night                       453.655    229  \n",
       "Fever                                              373.664    222  \n",
       "Your Type                                          343.036    221  \n",
       "Call Me Maybe                                      369.386    217  \n",
       "Run Away With Me                                   453.068    214  \n",
       "Summer Love                                        385.767    211  \n",
       "This Love Isn't Crazy                              396.300    211  \n",
       "So Hot You're Hurting My Feelings                  318.023    211  \n",
       "Love Again - Bonus Track                           467.653    209  \n",
       "When I Needed You                                  312.979    197  \n",
       "Rain On Me (with Ariana Grande)                    320.177    197  \n",
       "Party For One                                      162.642    193  \n",
       "Number One Fan                                     279.110    190  \n",
       "Julien                                             291.490    186  \n",
       "The Steps                                          384.418    185  \n",
       "People, I've been sad                              462.110    184  "
      ]
     },
     "execution_count": 29,
     "metadata": {},
     "output_type": "execute_result"
    }
   ],
   "source": [
    "# Getting sum of the relevant columns from the orignal dataframe and ordering them by the number of times played \n",
    "top_tracks = df.groupby([\"trackName\"])[['Listening Time(Hours)','Listening Time(Minutes)','Count']].sum().sort_values(by='Count',ascending=False)\n",
    "top_tracks.head(20) # Top 20 songs by count"
   ]
  },
  {
   "cell_type": "markdown",
   "metadata": {
    "tags": []
   },
   "source": [
    "<br>"
   ]
  },
  {
   "cell_type": "markdown",
   "metadata": {
    "tags": []
   },
   "source": [
    "<br>"
   ]
  },
  {
   "cell_type": "markdown",
   "metadata": {
    "tags": []
   },
   "source": [
    "<br>"
   ]
  },
  {
   "cell_type": "code",
   "execution_count": 30,
   "metadata": {
    "tags": []
   },
   "outputs": [
    {
     "data": {
      "text/plain": [
       "<AxesSubplot:title={'center':'Top Songs (Times Played)'}, xlabel='count', ylabel='trackName'>"
      ]
     },
     "execution_count": 30,
     "metadata": {},
     "output_type": "execute_result"
    },
    {
     "data": {
      "image/png": "[encoded data removed]",
      "text/plain": [
       "<Figure size 1440x432 with 1 Axes>"
      ]
     },
     "metadata": {
      "needs_background": "light"
     },
     "output_type": "display_data"
    }
   ],
   "source": [
    "plt.figure(figsize=(20,6))\n",
    "plt.ylabel = ('Times Played')\n",
    "plt.title('Top Songs (Times Played)')\n",
    "sns.countplot(y=df['trackName'], data=top_tracks, order=df['trackName'].value_counts().iloc[:10].index, palette='coolwarm_r')"
   ]
  },
  {
   "cell_type": "markdown",
   "metadata": {
    "tags": []
   },
   "source": [
    "<br>"
   ]
  },
  {
   "cell_type": "markdown",
   "metadata": {
    "tags": []
   },
   "source": [
    "<br>"
   ]
  },
  {
   "cell_type": "markdown",
   "metadata": {
    "tags": []
   },
   "source": [
    "<br>"
   ]
  },
  {
   "cell_type": "markdown",
   "metadata": {},
   "source": [
    "There is a smalller margin between the count on the number of times I have played a song than the number of times I have played an artist. All 10 songs on the above countplot are by my top artist - Carly Rae Jepsen. This supports the earlier data which found I listened to her 5,335 more times then my second most listened to artist, Madonna. \n",
    "\n",
    "Below I will use the same dataframe as above but, this time order it by the lenght of time listened in minutes. I chose minutes again as it is the time measurement Spotify uses in its end of year Spotify Unwrapped."
   ]
  },
  {
   "cell_type": "markdown",
   "metadata": {
    "tags": []
   },
   "source": [
    "<br>"
   ]
  },
  {
   "cell_type": "markdown",
   "metadata": {
    "tags": []
   },
   "source": [
    "<br>"
   ]
  },
  {
   "cell_type": "code",
   "execution_count": 31,
   "metadata": {},
   "outputs": [
    {
     "data": {
      "text/html": [
       "<div>\n",
       "<style scoped>\n",
       "    .dataframe tbody tr th:only-of-type {\n",
       "        vertical-align: middle;\n",
       "    }\n",
       "\n",
       "    .dataframe tbody tr th {\n",
       "        vertical-align: top;\n",
       "    }\n",
       "\n",
       "    .dataframe thead th {\n",
       "        text-align: right;\n",
       "    }\n",
       "</style>\n",
       "<table border=\"1\" class=\"dataframe\">\n",
       "  <thead>\n",
       "    <tr style=\"text-align: right;\">\n",
       "      <th></th>\n",
       "      <th>Listening Time(Hours)</th>\n",
       "      <th>Listening Time(Minutes)</th>\n",
       "      <th>Count</th>\n",
       "    </tr>\n",
       "    <tr>\n",
       "      <th>trackName</th>\n",
       "      <th></th>\n",
       "      <th></th>\n",
       "      <th></th>\n",
       "    </tr>\n",
       "  </thead>\n",
       "  <tbody>\n",
       "    <tr>\n",
       "      <th>Comeback</th>\n",
       "      <td>10.072</td>\n",
       "      <td>604.821</td>\n",
       "      <td>287</td>\n",
       "    </tr>\n",
       "    <tr>\n",
       "      <th>Love Again - Bonus Track</th>\n",
       "      <td>7.820</td>\n",
       "      <td>467.653</td>\n",
       "      <td>209</td>\n",
       "    </tr>\n",
       "    <tr>\n",
       "      <th>People, I've been sad</th>\n",
       "      <td>7.684</td>\n",
       "      <td>462.110</td>\n",
       "      <td>184</td>\n",
       "    </tr>\n",
       "    <tr>\n",
       "      <th>Making The Most Of The Night</th>\n",
       "      <td>7.546</td>\n",
       "      <td>453.655</td>\n",
       "      <td>229</td>\n",
       "    </tr>\n",
       "    <tr>\n",
       "      <th>Run Away With Me</th>\n",
       "      <td>7.570</td>\n",
       "      <td>453.068</td>\n",
       "      <td>214</td>\n",
       "    </tr>\n",
       "    <tr>\n",
       "      <th>Let’s Get Lost</th>\n",
       "      <td>6.982</td>\n",
       "      <td>416.522</td>\n",
       "      <td>257</td>\n",
       "    </tr>\n",
       "    <tr>\n",
       "      <th>This Love Isn't Crazy</th>\n",
       "      <td>6.622</td>\n",
       "      <td>396.300</td>\n",
       "      <td>211</td>\n",
       "    </tr>\n",
       "    <tr>\n",
       "      <th>Summer Love</th>\n",
       "      <td>6.410</td>\n",
       "      <td>385.767</td>\n",
       "      <td>211</td>\n",
       "    </tr>\n",
       "    <tr>\n",
       "      <th>The Steps</th>\n",
       "      <td>6.433</td>\n",
       "      <td>384.418</td>\n",
       "      <td>185</td>\n",
       "    </tr>\n",
       "    <tr>\n",
       "      <th>LUCID</th>\n",
       "      <td>6.422</td>\n",
       "      <td>383.411</td>\n",
       "      <td>153</td>\n",
       "    </tr>\n",
       "    <tr>\n",
       "      <th>Emotion</th>\n",
       "      <td>6.317</td>\n",
       "      <td>377.455</td>\n",
       "      <td>246</td>\n",
       "    </tr>\n",
       "    <tr>\n",
       "      <th>Fever</th>\n",
       "      <td>6.215</td>\n",
       "      <td>373.664</td>\n",
       "      <td>222</td>\n",
       "    </tr>\n",
       "    <tr>\n",
       "      <th>Sweet Melody</th>\n",
       "      <td>6.197</td>\n",
       "      <td>372.687</td>\n",
       "      <td>180</td>\n",
       "    </tr>\n",
       "    <tr>\n",
       "      <th>Call Me Maybe</th>\n",
       "      <td>6.193</td>\n",
       "      <td>369.386</td>\n",
       "      <td>217</td>\n",
       "    </tr>\n",
       "    <tr>\n",
       "      <th>Froot</th>\n",
       "      <td>6.156</td>\n",
       "      <td>369.235</td>\n",
       "      <td>146</td>\n",
       "    </tr>\n",
       "    <tr>\n",
       "      <th>Your Type</th>\n",
       "      <td>5.689</td>\n",
       "      <td>343.036</td>\n",
       "      <td>221</td>\n",
       "    </tr>\n",
       "    <tr>\n",
       "      <th>I Really Like You</th>\n",
       "      <td>5.701</td>\n",
       "      <td>340.708</td>\n",
       "      <td>235</td>\n",
       "    </tr>\n",
       "    <tr>\n",
       "      <th>Little Of Your Love - BloodPop® Remix</th>\n",
       "      <td>5.556</td>\n",
       "      <td>332.093</td>\n",
       "      <td>181</td>\n",
       "    </tr>\n",
       "    <tr>\n",
       "      <th>Rain On Me (with Ariana Grande)</th>\n",
       "      <td>5.372</td>\n",
       "      <td>320.177</td>\n",
       "      <td>197</td>\n",
       "    </tr>\n",
       "    <tr>\n",
       "      <th>So Hot You're Hurting My Feelings</th>\n",
       "      <td>5.312</td>\n",
       "      <td>318.023</td>\n",
       "      <td>211</td>\n",
       "    </tr>\n",
       "  </tbody>\n",
       "</table>\n",
       "</div>"
      ],
      "text/plain": [
       "                                       Listening Time(Hours)  \\\n",
       "trackName                                                      \n",
       "Comeback                                              10.072   \n",
       "Love Again - Bonus Track                               7.820   \n",
       "People, I've been sad                                  7.684   \n",
       "Making The Most Of The Night                           7.546   \n",
       "Run Away With Me                                       7.570   \n",
       "Let’s Get Lost                                         6.982   \n",
       "This Love Isn't Crazy                                  6.622   \n",
       "Summer Love                                            6.410   \n",
       "The Steps                                              6.433   \n",
       "LUCID                                                  6.422   \n",
       "Emotion                                                6.317   \n",
       "Fever                                                  6.215   \n",
       "Sweet Melody                                           6.197   \n",
       "Call Me Maybe                                          6.193   \n",
       "Froot                                                  6.156   \n",
       "Your Type                                              5.689   \n",
       "I Really Like You                                      5.701   \n",
       "Little Of Your Love - BloodPop® Remix                  5.556   \n",
       "Rain On Me (with Ariana Grande)                        5.372   \n",
       "So Hot You're Hurting My Feelings                      5.312   \n",
       "\n",
       "                                       Listening Time(Minutes)  Count  \n",
       "trackName                                                              \n",
       "Comeback                                               604.821    287  \n",
       "Love Again - Bonus Track                               467.653    209  \n",
       "People, I've been sad                                  462.110    184  \n",
       "Making The Most Of The Night                           453.655    229  \n",
       "Run Away With Me                                       453.068    214  \n",
       "Let’s Get Lost                                         416.522    257  \n",
       "This Love Isn't Crazy                                  396.300    211  \n",
       "Summer Love                                            385.767    211  \n",
       "The Steps                                              384.418    185  \n",
       "LUCID                                                  383.411    153  \n",
       "Emotion                                                377.455    246  \n",
       "Fever                                                  373.664    222  \n",
       "Sweet Melody                                           372.687    180  \n",
       "Call Me Maybe                                          369.386    217  \n",
       "Froot                                                  369.235    146  \n",
       "Your Type                                              343.036    221  \n",
       "I Really Like You                                      340.708    235  \n",
       "Little Of Your Love - BloodPop® Remix                  332.093    181  \n",
       "Rain On Me (with Ariana Grande)                        320.177    197  \n",
       "So Hot You're Hurting My Feelings                      318.023    211  "
      ]
     },
     "execution_count": 31,
     "metadata": {},
     "output_type": "execute_result"
    }
   ],
   "source": [
    "# Getting sum of the relevant columns from the orignal dataframe and ordering them by lenght of time played \n",
    "top_tracks_time = df.groupby([\"trackName\"])[[\"Listening Time(Hours)\",\"Listening Time(Minutes)\",\"Count\"]\n",
    "                                           ].sum().sort_values(by='Listening Time(Minutes)',ascending=False)\n",
    "top_tracks_time.head(20) # Top 20 songs based on lenght of time played in minutes"
   ]
  },
  {
   "cell_type": "markdown",
   "metadata": {
    "tags": []
   },
   "source": [
    "<br>"
   ]
  },
  {
   "cell_type": "markdown",
   "metadata": {
    "tags": []
   },
   "source": [
    "<br>"
   ]
  },
  {
   "cell_type": "markdown",
   "metadata": {
    "tags": []
   },
   "source": [
    "<br>"
   ]
  },
  {
   "cell_type": "markdown",
   "metadata": {
    "tags": []
   },
   "source": [
    "<br>"
   ]
  },
  {
   "cell_type": "markdown",
   "metadata": {},
   "source": [
    "Let's see how my listening habits are spread throughout the week"
   ]
  },
  {
   "cell_type": "markdown",
   "metadata": {
    "tags": []
   },
   "source": [
    "<br>"
   ]
  },
  {
   "cell_type": "markdown",
   "metadata": {
    "tags": []
   },
   "source": [
    "<br>"
   ]
  },
  {
   "cell_type": "markdown",
   "metadata": {
    "tags": []
   },
   "source": [
    "<br>"
   ]
  },
  {
   "cell_type": "code",
   "execution_count": 32,
   "metadata": {},
   "outputs": [
    {
     "data": {
      "text/plain": [
       "<matplotlib.patches.Circle at 0x2017a11b550>"
      ]
     },
     "execution_count": 32,
     "metadata": {},
     "output_type": "execute_result"
    },
    {
     "data": {
      "image/png": "[encoded data removed]",
      "text/plain": [
       "<Figure size 864x432 with 1 Axes>"
      ]
     },
     "metadata": {},
     "output_type": "display_data"
    }
   ],
   "source": [
    "fig, ax = plt.subplots(figsize=(12, 6))\n",
    "ax.pie(df[\"day-name\"].value_counts(), labels=df[\"day-name\"].value_counts().index, autopct='%1.1f%%', colors='cymg')\n",
    "ax.set(title=\"Dayily Spotify Streaming\")\n",
    "\n",
    "# Adding a circle at the center to make it a donut chart\n",
    "my_circle=plt.Circle( (0,0), 0.8, color='white')\n",
    "p=plt.gcf()\n",
    "p.gca().add_artist(my_circle)"
   ]
  },
  {
   "cell_type": "markdown",
   "metadata": {
    "tags": []
   },
   "source": [
    "<br>"
   ]
  },
  {
   "cell_type": "markdown",
   "metadata": {
    "tags": []
   },
   "source": [
    "<br>"
   ]
  },
  {
   "cell_type": "markdown",
   "metadata": {
    "tags": []
   },
   "source": [
    "<br>"
   ]
  },
  {
   "cell_type": "markdown",
   "metadata": {
    "tags": []
   },
   "source": [
    "<br>"
   ]
  },
  {
   "cell_type": "markdown",
   "metadata": {},
   "source": [
    "I have a quite even distribution of streaming over the week. This is because on Sundays go for a long walk and would more likely listen to music, whereas Monday to Saturday when I run I listen to podcasts as opposed to music.\n",
    "\n",
    "Next let's look at my listening habits over the course the the day."
   ]
  },
  {
   "cell_type": "markdown",
   "metadata": {
    "tags": []
   },
   "source": [
    "<br>"
   ]
  },
  {
   "cell_type": "markdown",
   "metadata": {
    "tags": []
   },
   "source": [
    "<br>"
   ]
  },
  {
   "cell_type": "markdown",
   "metadata": {
    "tags": []
   },
   "source": [
    "<br>"
   ]
  },
  {
   "cell_type": "code",
   "execution_count": 33,
   "metadata": {},
   "outputs": [
    {
     "data": {
      "text/plain": [
       "[Text(0.5, 1.0, 'Average Distribution of Streaming Over Day Hours'),\n",
       " Text(0.5, 0, 'Hour of The Day (24 hour format)'),\n",
       " Text(0, 0.5, 'Songs Played')]"
      ]
     },
     "execution_count": 33,
     "metadata": {},
     "output_type": "execute_result"
    },
    {
     "data": {
      "image/png": "[encoded data removed]",
      "text/plain": [
       "<Figure size 864x576 with 1 Axes>"
      ]
     },
     "metadata": {
      "needs_background": "light"
     },
     "output_type": "display_data"
    }
   ],
   "source": [
    "fig, ax = plt.subplots(figsize=(12,8))\n",
    "sns.histplot(df[\"hours\"], bins=24,kde=True, color=\"g\") # 24 bins  for 24 hours in a day\n",
    "ax.set(title=\"Average Distribution of Streaming Over Day Hours\",xlabel=\"Hour of The Day (24 hour format)\", ylabel=\"Songs Played\")"
   ]
  },
  {
   "cell_type": "markdown",
   "metadata": {
    "tags": []
   },
   "source": [
    "<br>"
   ]
  },
  {
   "cell_type": "markdown",
   "metadata": {
    "tags": []
   },
   "source": [
    "<br>"
   ]
  },
  {
   "cell_type": "markdown",
   "metadata": {
    "tags": []
   },
   "source": [
    "<br>"
   ]
  },
  {
   "cell_type": "markdown",
   "metadata": {
    "tags": []
   },
   "source": [
    "<br>"
   ]
  },
  {
   "cell_type": "markdown",
   "metadata": {},
   "source": [
    "The time I most play music is between 4PM - 5PM.\n",
    "The time I listen to the least amount of music is between 3AM - 5AM.\n",
    "\n",
    "I'm not surpised at these findings. I listen to music consistantly throughout the working day as it helps me concentrate and motivates me. Again my usage picks up at 10PM, this would be on average the time I start getting my things together for the following day and getting ready for bed. \n",
    "\n"
   ]
  },
  {
   "cell_type": "markdown",
   "metadata": {
    "tags": []
   },
   "source": [
    "<br>"
   ]
  },
  {
   "cell_type": "markdown",
   "metadata": {
    "tags": []
   },
   "source": [
    "<br>"
   ]
  },
  {
   "cell_type": "code",
   "execution_count": 34,
   "metadata": {
    "tags": []
   },
   "outputs": [
    {
     "data": {
      "text/plain": [
       "[Text(0.5, 1.0, 'Average Spotify Usage'),\n",
       " Text(0.5, 0, 'Songs Played (Counts)'),\n",
       " Text(0, 0.5, 'Month')]"
      ]
     },
     "execution_count": 34,
     "metadata": {},
     "output_type": "execute_result"
    },
    {
     "data": {
      "image/png": "[encoded data removed]",
      "text/plain": [
       "<Figure size 864x432 with 1 Axes>"
      ]
     },
     "metadata": {
      "needs_background": "light"
     },
     "output_type": "display_data"
    }
   ],
   "source": [
    "# Getting the average play in count of the year\n",
    "fig, ax = plt.subplots(figsize=(12,6))\n",
    "\n",
    "ax = sns.countplot(y=df[\"month\"], ax=ax)\n",
    "ax.set(title=\"Average Spotify Usage\", xlabel=\"Songs Played (Counts)\", ylabel=\"Month\")"
   ]
  },
  {
   "cell_type": "markdown",
   "metadata": {
    "tags": []
   },
   "source": [
    "<br>"
   ]
  },
  {
   "cell_type": "markdown",
   "metadata": {
    "tags": []
   },
   "source": [
    "<br>"
   ]
  },
  {
   "cell_type": "markdown",
   "metadata": {
    "tags": []
   },
   "source": [
    "<br>"
   ]
  },
  {
   "cell_type": "markdown",
   "metadata": {},
   "source": [
    "February is when I listened to the most music. My usage drops off in the second half of the year, I believe this to be because I started a new job and a lot of that time was taken up with training, meaning I didn't get to listen to as much music during this period as I usually would.\n",
    "\n",
    "I know that February was the month I played the most music, now let's see which specific day I played the most songs.\n"
   ]
  },
  {
   "cell_type": "markdown",
   "metadata": {
    "tags": []
   },
   "source": [
    "<br>"
   ]
  },
  {
   "cell_type": "markdown",
   "metadata": {
    "tags": []
   },
   "source": [
    "<br>"
   ]
  },
  {
   "cell_type": "markdown",
   "metadata": {
    "tags": []
   },
   "source": [
    "<br>"
   ]
  },
  {
   "cell_type": "code",
   "execution_count": 35,
   "metadata": {},
   "outputs": [
    {
     "data": {
      "text/html": [
       "<div>\n",
       "<style scoped>\n",
       "    .dataframe tbody tr th:only-of-type {\n",
       "        vertical-align: middle;\n",
       "    }\n",
       "\n",
       "    .dataframe tbody tr th {\n",
       "        vertical-align: top;\n",
       "    }\n",
       "\n",
       "    .dataframe thead th {\n",
       "        text-align: right;\n",
       "    }\n",
       "</style>\n",
       "<table border=\"1\" class=\"dataframe\">\n",
       "  <thead>\n",
       "    <tr style=\"text-align: right;\">\n",
       "      <th></th>\n",
       "      <th>Count</th>\n",
       "    </tr>\n",
       "    <tr>\n",
       "      <th>date</th>\n",
       "      <th></th>\n",
       "    </tr>\n",
       "  </thead>\n",
       "  <tbody>\n",
       "    <tr>\n",
       "      <th>2021-02-24</th>\n",
       "      <td>1497</td>\n",
       "    </tr>\n",
       "  </tbody>\n",
       "</table>\n",
       "</div>"
      ],
      "text/plain": [
       "            Count\n",
       "date             \n",
       "2021-02-24   1497"
      ]
     },
     "execution_count": 35,
     "metadata": {},
     "output_type": "execute_result"
    }
   ],
   "source": [
    "df[\"date\"] = df[\"PlayTime\"].dt.date # Creating a new column with date\n",
    "most_played_day = df.groupby([\"date\"])[[\"Count\"]].sum().sort_values(by=\"Count\", ascending=False)\n",
    "most_played_day.head(1)"
   ]
  },
  {
   "cell_type": "markdown",
   "metadata": {
    "tags": []
   },
   "source": [
    "<br>"
   ]
  },
  {
   "cell_type": "markdown",
   "metadata": {
    "tags": []
   },
   "source": [
    "<br>"
   ]
  },
  {
   "cell_type": "code",
   "execution_count": 36,
   "metadata": {},
   "outputs": [
    {
     "data": {
      "text/plain": [
       "<matplotlib.lines.Line2D at 0x201787be7f0>"
      ]
     },
     "execution_count": 36,
     "metadata": {},
     "output_type": "execute_result"
    },
    {
     "data": {
      "image/png": "[encoded data removed]",
      "text/plain": [
       "<Figure size 1080x576 with 1 Axes>"
      ]
     },
     "metadata": {
      "needs_background": "light"
     },
     "output_type": "display_data"
    }
   ],
   "source": [
    "fig,ax = plt.subplots(figsize=(15,8))\n",
    "ax.scatter(most_played_day.index,most_played_day[\"Count\"])\n",
    "ax.set(title=\"Songs Played Per Day\",xlabel=\"Date(Year-Month)\",ylabel=\"Count\")\n",
    "ax.axhline(most_played_day[\"Count\"].mean(), linestyle=\"-\", color=\"r\") # Red line shows the average"
   ]
  },
  {
   "cell_type": "markdown",
   "metadata": {
    "tags": []
   },
   "source": [
    "<br>"
   ]
  },
  {
   "cell_type": "markdown",
   "metadata": {
    "tags": []
   },
   "source": [
    "<br>"
   ]
  },
  {
   "cell_type": "markdown",
   "metadata": {
    "tags": []
   },
   "source": [
    "<br>"
   ]
  },
  {
   "cell_type": "markdown",
   "metadata": {},
   "source": [
    "On average I listen to just over 250 songs per day. \n",
    "\n",
    "Now let's make a pivot table and heat map to show my daily streaming habits"
   ]
  },
  {
   "cell_type": "markdown",
   "metadata": {
    "tags": []
   },
   "source": [
    "<br>"
   ]
  },
  {
   "cell_type": "markdown",
   "metadata": {
    "tags": []
   },
   "source": [
    "<br>"
   ]
  },
  {
   "cell_type": "code",
   "execution_count": 37,
   "metadata": {},
   "outputs": [
    {
     "data": {
      "text/html": [
       "<div>\n",
       "<style scoped>\n",
       "    .dataframe tbody tr th:only-of-type {\n",
       "        vertical-align: middle;\n",
       "    }\n",
       "\n",
       "    .dataframe tbody tr th {\n",
       "        vertical-align: top;\n",
       "    }\n",
       "\n",
       "    .dataframe thead th {\n",
       "        text-align: right;\n",
       "    }\n",
       "</style>\n",
       "<table border=\"1\" class=\"dataframe\">\n",
       "  <thead>\n",
       "    <tr style=\"text-align: right;\">\n",
       "      <th>day-name</th>\n",
       "      <th>Friday</th>\n",
       "      <th>Monday</th>\n",
       "      <th>Saturday</th>\n",
       "      <th>Sunday</th>\n",
       "      <th>Thursday</th>\n",
       "      <th>Tuesday</th>\n",
       "      <th>Wednesday</th>\n",
       "    </tr>\n",
       "    <tr>\n",
       "      <th>hours</th>\n",
       "      <th></th>\n",
       "      <th></th>\n",
       "      <th></th>\n",
       "      <th></th>\n",
       "      <th></th>\n",
       "      <th></th>\n",
       "      <th></th>\n",
       "    </tr>\n",
       "  </thead>\n",
       "  <tbody>\n",
       "    <tr>\n",
       "      <th>0</th>\n",
       "      <td>223.0</td>\n",
       "      <td>107.0</td>\n",
       "      <td>264.0</td>\n",
       "      <td>329.0</td>\n",
       "      <td>13.0</td>\n",
       "      <td>47.0</td>\n",
       "      <td>42.0</td>\n",
       "    </tr>\n",
       "    <tr>\n",
       "      <th>1</th>\n",
       "      <td>282.0</td>\n",
       "      <td>1.0</td>\n",
       "      <td>41.0</td>\n",
       "      <td>33.0</td>\n",
       "      <td>NaN</td>\n",
       "      <td>NaN</td>\n",
       "      <td>2.0</td>\n",
       "    </tr>\n",
       "    <tr>\n",
       "      <th>2</th>\n",
       "      <td>47.0</td>\n",
       "      <td>NaN</td>\n",
       "      <td>10.0</td>\n",
       "      <td>NaN</td>\n",
       "      <td>NaN</td>\n",
       "      <td>NaN</td>\n",
       "      <td>1.0</td>\n",
       "    </tr>\n",
       "    <tr>\n",
       "      <th>3</th>\n",
       "      <td>NaN</td>\n",
       "      <td>NaN</td>\n",
       "      <td>1.0</td>\n",
       "      <td>NaN</td>\n",
       "      <td>NaN</td>\n",
       "      <td>NaN</td>\n",
       "      <td>NaN</td>\n",
       "    </tr>\n",
       "    <tr>\n",
       "      <th>6</th>\n",
       "      <td>75.0</td>\n",
       "      <td>3.0</td>\n",
       "      <td>NaN</td>\n",
       "      <td>NaN</td>\n",
       "      <td>46.0</td>\n",
       "      <td>60.0</td>\n",
       "      <td>47.0</td>\n",
       "    </tr>\n",
       "    <tr>\n",
       "      <th>7</th>\n",
       "      <td>520.0</td>\n",
       "      <td>548.0</td>\n",
       "      <td>20.0</td>\n",
       "      <td>NaN</td>\n",
       "      <td>506.0</td>\n",
       "      <td>548.0</td>\n",
       "      <td>539.0</td>\n",
       "    </tr>\n",
       "    <tr>\n",
       "      <th>8</th>\n",
       "      <td>618.0</td>\n",
       "      <td>1261.0</td>\n",
       "      <td>211.0</td>\n",
       "      <td>64.0</td>\n",
       "      <td>1041.0</td>\n",
       "      <td>1269.0</td>\n",
       "      <td>1021.0</td>\n",
       "    </tr>\n",
       "    <tr>\n",
       "      <th>9</th>\n",
       "      <td>695.0</td>\n",
       "      <td>657.0</td>\n",
       "      <td>181.0</td>\n",
       "      <td>326.0</td>\n",
       "      <td>410.0</td>\n",
       "      <td>618.0</td>\n",
       "      <td>593.0</td>\n",
       "    </tr>\n",
       "    <tr>\n",
       "      <th>10</th>\n",
       "      <td>730.0</td>\n",
       "      <td>742.0</td>\n",
       "      <td>1608.0</td>\n",
       "      <td>1248.0</td>\n",
       "      <td>1150.0</td>\n",
       "      <td>617.0</td>\n",
       "      <td>1066.0</td>\n",
       "    </tr>\n",
       "    <tr>\n",
       "      <th>11</th>\n",
       "      <td>1296.0</td>\n",
       "      <td>1245.0</td>\n",
       "      <td>1684.0</td>\n",
       "      <td>1070.0</td>\n",
       "      <td>1224.0</td>\n",
       "      <td>979.0</td>\n",
       "      <td>1044.0</td>\n",
       "    </tr>\n",
       "    <tr>\n",
       "      <th>12</th>\n",
       "      <td>758.0</td>\n",
       "      <td>723.0</td>\n",
       "      <td>1288.0</td>\n",
       "      <td>1092.0</td>\n",
       "      <td>647.0</td>\n",
       "      <td>720.0</td>\n",
       "      <td>747.0</td>\n",
       "    </tr>\n",
       "    <tr>\n",
       "      <th>13</th>\n",
       "      <td>708.0</td>\n",
       "      <td>722.0</td>\n",
       "      <td>696.0</td>\n",
       "      <td>926.0</td>\n",
       "      <td>1246.0</td>\n",
       "      <td>1084.0</td>\n",
       "      <td>1126.0</td>\n",
       "    </tr>\n",
       "    <tr>\n",
       "      <th>14</th>\n",
       "      <td>876.0</td>\n",
       "      <td>956.0</td>\n",
       "      <td>879.0</td>\n",
       "      <td>1511.0</td>\n",
       "      <td>983.0</td>\n",
       "      <td>796.0</td>\n",
       "      <td>949.0</td>\n",
       "    </tr>\n",
       "    <tr>\n",
       "      <th>15</th>\n",
       "      <td>1583.0</td>\n",
       "      <td>845.0</td>\n",
       "      <td>963.0</td>\n",
       "      <td>833.0</td>\n",
       "      <td>1003.0</td>\n",
       "      <td>970.0</td>\n",
       "      <td>976.0</td>\n",
       "    </tr>\n",
       "    <tr>\n",
       "      <th>16</th>\n",
       "      <td>1403.0</td>\n",
       "      <td>1178.0</td>\n",
       "      <td>942.0</td>\n",
       "      <td>1433.0</td>\n",
       "      <td>1753.0</td>\n",
       "      <td>1710.0</td>\n",
       "      <td>1102.0</td>\n",
       "    </tr>\n",
       "    <tr>\n",
       "      <th>17</th>\n",
       "      <td>545.0</td>\n",
       "      <td>711.0</td>\n",
       "      <td>616.0</td>\n",
       "      <td>1343.0</td>\n",
       "      <td>599.0</td>\n",
       "      <td>1134.0</td>\n",
       "      <td>671.0</td>\n",
       "    </tr>\n",
       "    <tr>\n",
       "      <th>18</th>\n",
       "      <td>342.0</td>\n",
       "      <td>621.0</td>\n",
       "      <td>558.0</td>\n",
       "      <td>519.0</td>\n",
       "      <td>627.0</td>\n",
       "      <td>380.0</td>\n",
       "      <td>768.0</td>\n",
       "    </tr>\n",
       "    <tr>\n",
       "      <th>19</th>\n",
       "      <td>340.0</td>\n",
       "      <td>524.0</td>\n",
       "      <td>394.0</td>\n",
       "      <td>178.0</td>\n",
       "      <td>544.0</td>\n",
       "      <td>380.0</td>\n",
       "      <td>347.0</td>\n",
       "    </tr>\n",
       "    <tr>\n",
       "      <th>20</th>\n",
       "      <td>358.0</td>\n",
       "      <td>277.0</td>\n",
       "      <td>619.0</td>\n",
       "      <td>392.0</td>\n",
       "      <td>497.0</td>\n",
       "      <td>481.0</td>\n",
       "      <td>397.0</td>\n",
       "    </tr>\n",
       "    <tr>\n",
       "      <th>21</th>\n",
       "      <td>397.0</td>\n",
       "      <td>786.0</td>\n",
       "      <td>727.0</td>\n",
       "      <td>1030.0</td>\n",
       "      <td>444.0</td>\n",
       "      <td>747.0</td>\n",
       "      <td>444.0</td>\n",
       "    </tr>\n",
       "    <tr>\n",
       "      <th>22</th>\n",
       "      <td>1020.0</td>\n",
       "      <td>820.0</td>\n",
       "      <td>819.0</td>\n",
       "      <td>1330.0</td>\n",
       "      <td>788.0</td>\n",
       "      <td>1193.0</td>\n",
       "      <td>964.0</td>\n",
       "    </tr>\n",
       "    <tr>\n",
       "      <th>23</th>\n",
       "      <td>370.0</td>\n",
       "      <td>326.0</td>\n",
       "      <td>1053.0</td>\n",
       "      <td>1031.0</td>\n",
       "      <td>301.0</td>\n",
       "      <td>420.0</td>\n",
       "      <td>365.0</td>\n",
       "    </tr>\n",
       "  </tbody>\n",
       "</table>\n",
       "</div>"
      ],
      "text/plain": [
       "day-name  Friday  Monday  Saturday  Sunday  Thursday  Tuesday  Wednesday\n",
       "hours                                                                   \n",
       "0          223.0   107.0     264.0   329.0      13.0     47.0       42.0\n",
       "1          282.0     1.0      41.0    33.0       NaN      NaN        2.0\n",
       "2           47.0     NaN      10.0     NaN       NaN      NaN        1.0\n",
       "3            NaN     NaN       1.0     NaN       NaN      NaN        NaN\n",
       "6           75.0     3.0       NaN     NaN      46.0     60.0       47.0\n",
       "7          520.0   548.0      20.0     NaN     506.0    548.0      539.0\n",
       "8          618.0  1261.0     211.0    64.0    1041.0   1269.0     1021.0\n",
       "9          695.0   657.0     181.0   326.0     410.0    618.0      593.0\n",
       "10         730.0   742.0    1608.0  1248.0    1150.0    617.0     1066.0\n",
       "11        1296.0  1245.0    1684.0  1070.0    1224.0    979.0     1044.0\n",
       "12         758.0   723.0    1288.0  1092.0     647.0    720.0      747.0\n",
       "13         708.0   722.0     696.0   926.0    1246.0   1084.0     1126.0\n",
       "14         876.0   956.0     879.0  1511.0     983.0    796.0      949.0\n",
       "15        1583.0   845.0     963.0   833.0    1003.0    970.0      976.0\n",
       "16        1403.0  1178.0     942.0  1433.0    1753.0   1710.0     1102.0\n",
       "17         545.0   711.0     616.0  1343.0     599.0   1134.0      671.0\n",
       "18         342.0   621.0     558.0   519.0     627.0    380.0      768.0\n",
       "19         340.0   524.0     394.0   178.0     544.0    380.0      347.0\n",
       "20         358.0   277.0     619.0   392.0     497.0    481.0      397.0\n",
       "21         397.0   786.0     727.0  1030.0     444.0    747.0      444.0\n",
       "22        1020.0   820.0     819.0  1330.0     788.0   1193.0      964.0\n",
       "23         370.0   326.0    1053.0  1031.0     301.0    420.0      365.0"
      ]
     },
     "execution_count": 37,
     "metadata": {},
     "output_type": "execute_result"
    }
   ],
   "source": [
    "# Creating a pivot table of my daily listening~\n",
    "daily_streaming = df.groupby(['hours', 'day-name'])['artistName'].size().reset_index()\n",
    "daily_streaming_pivot = daily_streaming.pivot(\"hours\", 'day-name', 'artistName')\n",
    "daily_streaming_pivot"
   ]
  },
  {
   "cell_type": "markdown",
   "metadata": {
    "tags": []
   },
   "source": [
    "<br>"
   ]
  },
  {
   "cell_type": "markdown",
   "metadata": {
    "tags": []
   },
   "source": [
    "<br>"
   ]
  },
  {
   "cell_type": "markdown",
   "metadata": {
    "tags": []
   },
   "source": [
    "<br>"
   ]
  },
  {
   "cell_type": "code",
   "execution_count": 38,
   "metadata": {},
   "outputs": [
    {
     "data": {
      "text/plain": [
       "[Text(0.5, 1.0, 'Spotify Streaming'),\n",
       " Text(0.5, 87.0, 'Day of The Week'),\n",
       " Text(114.0, 0.5, 'Time(24 Hours)')]"
      ]
     },
     "execution_count": 38,
     "metadata": {},
     "output_type": "execute_result"
    },
    {
     "data": {
      "image/png": "[encoded data removed]",
      "text/plain": [
       "<Figure size 1080x864 with 2 Axes>"
      ]
     },
     "metadata": {
      "needs_background": "light"
     },
     "output_type": "display_data"
    }
   ],
   "source": [
    "# Creating a heatmap\n",
    "days = [\"Monday\", 'Tuesday', \"Wednesday\", \"Thursday\", \"Friday\", \"Saturday\", \"Sunday\"]\n",
    "\n",
    "fig, ax = plt.subplots(figsize=(15,12))\n",
    "ax = sns.heatmap(daily_streaming_pivot[days].fillna(0), robust=True, cmap=\"coolwarm\", ax = ax) # fillna() changes null values to 0\n",
    "ax.set(title=\"Spotify Streaming\", xlabel=\"Day of The Week\",ylabel=\"Time(24 Hours)\")"
   ]
  },
  {
   "cell_type": "markdown",
   "metadata": {
    "tags": []
   },
   "source": [
    "<br>"
   ]
  },
  {
   "cell_type": "markdown",
   "metadata": {
    "tags": []
   },
   "source": [
    "<br>"
   ]
  },
  {
   "cell_type": "markdown",
   "metadata": {
    "tags": []
   },
   "source": [
    "<br>"
   ]
  },
  {
   "cell_type": "markdown",
   "metadata": {},
   "source": [
    "We can see that the main time I use Spotify is between the hours of 8AM - 4PM. This makes up the majority of my working day. My listening falls off between 5PM - 10PM, this is when I go for a run where I listen to a podcast, cook and do my college work. This is the reason for the drop in streaming. From 10PM - 11PM my streaming picks up again as this is when I'm getting ready for the following day and washing my face etc.   \n",
    "\n",
    "My streaming starts later on both Saturday and Sundays, this is because I have a lie in. On Sunday's we can see that streaming is consistent throughout the afternoon, this is down to going for a long walk.\n",
    "\n",
    "Below, I will take a closer look at weekday vs weekend listening, to futher prove this. "
   ]
  },
  {
   "cell_type": "markdown",
   "metadata": {
    "tags": []
   },
   "source": [
    "<br>"
   ]
  },
  {
   "cell_type": "markdown",
   "metadata": {
    "tags": []
   },
   "source": [
    "<br>"
   ]
  },
  {
   "cell_type": "code",
   "execution_count": 39,
   "metadata": {},
   "outputs": [
    {
     "data": {
      "text/html": [
       "<div>\n",
       "<style scoped>\n",
       "    .dataframe tbody tr th:only-of-type {\n",
       "        vertical-align: middle;\n",
       "    }\n",
       "\n",
       "    .dataframe tbody tr th {\n",
       "        vertical-align: top;\n",
       "    }\n",
       "\n",
       "    .dataframe thead th {\n",
       "        text-align: right;\n",
       "    }\n",
       "</style>\n",
       "<table border=\"1\" class=\"dataframe\">\n",
       "  <thead>\n",
       "    <tr style=\"text-align: right;\">\n",
       "      <th></th>\n",
       "      <th>Count</th>\n",
       "      <th>Percentage</th>\n",
       "    </tr>\n",
       "    <tr>\n",
       "      <th>weekday_or_weekend</th>\n",
       "      <th></th>\n",
       "      <th></th>\n",
       "    </tr>\n",
       "  </thead>\n",
       "  <tbody>\n",
       "    <tr>\n",
       "      <th>False</th>\n",
       "      <td>67425</td>\n",
       "      <td>70.464117</td>\n",
       "    </tr>\n",
       "    <tr>\n",
       "      <th>True</th>\n",
       "      <td>28262</td>\n",
       "      <td>29.535883</td>\n",
       "    </tr>\n",
       "  </tbody>\n",
       "</table>\n",
       "</div>"
      ],
      "text/plain": [
       "                    Count  Percentage\n",
       "weekday_or_weekend                   \n",
       "False               67425   70.464117\n",
       "True                28262   29.535883"
      ]
     },
     "execution_count": 39,
     "metadata": {},
     "output_type": "execute_result"
    }
   ],
   "source": [
    "extra_df = df.copy() # Making a copy of the orignal dataframe so as to not alter it.\n",
    "extra_df['weekday_or_weekend'] = extra_df[\"day-name\"].isin(['Sunday','Saturday']) # If day-name is Saturday or Sunday it's a weekend\n",
    "weekday_vs_weekend = extra_df.groupby(['weekday_or_weekend'])[['Count']].sum() # Getting the count total\n",
    "weekday_vs_weekend[\"Percentage\"] = weekday_vs_weekend[\"Count\"]/weekday_vs_weekend[\"Count\"].sum()*100 # Getting the %\n",
    "weekday_vs_weekend"
   ]
  },
  {
   "cell_type": "markdown",
   "metadata": {
    "tags": []
   },
   "source": [
    "<br>"
   ]
  },
  {
   "cell_type": "markdown",
   "metadata": {
    "tags": []
   },
   "source": [
    "<br>"
   ]
  },
  {
   "cell_type": "code",
   "execution_count": 40,
   "metadata": {},
   "outputs": [
    {
     "data": {
      "image/png": "[encoded data removed]",
      "text/plain": [
       "<Waffle size 432x288 with 1 Axes>"
      ]
     },
     "metadata": {
      "needs_background": "light"
     },
     "output_type": "display_data"
    }
   ],
   "source": [
    "# Waffel Chart to show the difference between streaming on a weekday vs the weekend\n",
    "fig = plt.figure(FigureClass=Waffle, rows= 15, columns=20, values={'Weekday': 67425, 'Weekend': 28262},\n",
    "    legend={'loc': 'upper left', 'bbox_to_anchor': (1, 1)}) # Legend"
   ]
  },
  {
   "cell_type": "markdown",
   "metadata": {
    "tags": []
   },
   "source": [
    "<br>"
   ]
  },
  {
   "cell_type": "markdown",
   "metadata": {
    "tags": []
   },
   "source": [
    "<br>"
   ]
  },
  {
   "cell_type": "markdown",
   "metadata": {
    "tags": []
   },
   "source": [
    "<br>"
   ]
  },
  {
   "cell_type": "markdown",
   "metadata": {},
   "source": [
    "Now let's find out how many hours I spent listening to Spotify in the last year."
   ]
  },
  {
   "cell_type": "markdown",
   "metadata": {
    "tags": []
   },
   "source": [
    "<br>"
   ]
  },
  {
   "cell_type": "markdown",
   "metadata": {
    "tags": []
   },
   "source": [
    "<br>"
   ]
  },
  {
   "cell_type": "code",
   "execution_count": 41,
   "metadata": {},
   "outputs": [
    {
     "data": {
      "text/plain": [
       "1817.2"
      ]
     },
     "execution_count": 41,
     "metadata": {},
     "output_type": "execute_result"
    }
   ],
   "source": [
    "time_spent_hours = df[\"Listening Time(Hours)\"].sum() # Summation of all \n",
    "time_spent_hours.round(2)"
   ]
  },
  {
   "cell_type": "markdown",
   "metadata": {
    "tags": []
   },
   "source": [
    "<br>"
   ]
  },
  {
   "cell_type": "markdown",
   "metadata": {
    "tags": []
   },
   "source": [
    "<br>"
   ]
  },
  {
   "cell_type": "code",
   "execution_count": 42,
   "metadata": {},
   "outputs": [
    {
     "data": {
      "image/png": "[encoded data removed]",
      "text/plain": [
       "<Waffle size 432x288 with 1 Axes>"
      ]
     },
     "metadata": {
      "needs_background": "light"
     },
     "output_type": "display_data"
    }
   ],
   "source": [
    "# Waffle Chart\n",
    "fig = plt.figure(FigureClass=Waffle, rows= 15, columns=20, values={'Hours in The Year': 8760, 'Hours Streaming ': time_spent_hours},\n",
    "    legend={'loc': 'upper left', 'bbox_to_anchor': (1, 1)}) # Legend"
   ]
  },
  {
   "cell_type": "markdown",
   "metadata": {
    "tags": []
   },
   "source": [
    "<br>"
   ]
  },
  {
   "cell_type": "markdown",
   "metadata": {
    "tags": []
   },
   "source": [
    "<br>"
   ]
  },
  {
   "cell_type": "markdown",
   "metadata": {
    "tags": []
   },
   "source": [
    "<br>"
   ]
  },
  {
   "cell_type": "markdown",
   "metadata": {},
   "source": [
    "Considering the average year is consists of 8760 hours, this is quite a sizeable chunk of time. This roughly translates to a huge 76 days worth of music streaming! This surely backs up my claim of being a music lower!! Below we can workout what % of my year was made up streaming Spotify."
   ]
  },
  {
   "cell_type": "markdown",
   "metadata": {
    "tags": []
   },
   "source": [
    "<br>"
   ]
  },
  {
   "cell_type": "markdown",
   "metadata": {
    "tags": []
   },
   "source": [
    "<br>"
   ]
  },
  {
   "cell_type": "code",
   "execution_count": 43,
   "metadata": {},
   "outputs": [
    {
     "data": {
      "text/plain": [
       "20.74"
      ]
     },
     "execution_count": 43,
     "metadata": {},
     "output_type": "execute_result"
    }
   ],
   "source": [
    "hour_percentage = time_spent_hours/8760*100 #8760 hours in a year(365)\n",
    "hour_percentage.round(2)"
   ]
  },
  {
   "cell_type": "markdown",
   "metadata": {
    "tags": []
   },
   "source": [
    "<br>"
   ]
  },
  {
   "cell_type": "markdown",
   "metadata": {
    "tags": []
   },
   "source": [
    "<br>"
   ]
  },
  {
   "cell_type": "markdown",
   "metadata": {
    "tags": []
   },
   "source": [
    "<br>"
   ]
  },
  {
   "cell_type": "markdown",
   "metadata": {
    "tags": []
   },
   "source": [
    "***\n",
    "# Conculsion\n",
    "***"
   ]
  },
  {
   "cell_type": "markdown",
   "metadata": {
    "jp-MarkdownHeadingCollapsed": true,
    "tags": []
   },
   "source": [
    "\n",
    "\n",
    "<n></n>\n",
    "<li>In the last year I have played a total of 95687 songs.</li>\n",
    "\n",
    "<li>97% or 2899 of these songs are made up by the same artists.</li>\n",
    "<li>Of these songs played, 9154 or 9.6% of these songs are unique, i.e. have had at least one play. </li>\n",
    "<li>My favourite artist i.e. the most streamed is Carly Rae Jepsen. I have played over 233 hours of her music. My played track Carly Rae Jepsen song is 'Comeback', which I have played 287 times. This is also my most played song of the year.</li>\n",
    "<li>My top 10 most played songs are all by Carly Rae Jepsen, this comes as no surprise as I have listened to her for around 161 hours more than my second placed artist, Madonna (71.62 hours)</li>\n",
    "<li>I have a fairly equally distribution of playtime throughout the week. Sunday's edge out the other days to be the day I listen to music the most. I attribute this to going for long walks on Sundays.</li>\n",
    "<li>70.4% of my streaming takes place during the week. This aligns with what I previously thought, as I listen consistently throughout the work day to keep me focused and motivated.</li>\n",
    "<li>My most active time is between 4PM - 5PM.</li>\n",
    "<li>On average I play just of 250 songs per day.</li>\n",
    "<li>February is the month I listened to the most songs. The 2nd of February 2021 is the day I had the most streams. I played 1497 songs.</li>\n",
    "<li>20.7% of my year or 1817 hours where spent listening to music on Spotify.</li>\n",
    "\n",
    "I always knew I listened to a lot of music and this project proved that to me. This only accounts for Spotify and not the other streaming services I use such as SoundCloud, YouTube, CD's, etc.\n",
    "I believe I furfilled the goals of this project; I got insights into my listening habits, exercised my data analysis skills and got to work on something I am passionate about."
   ]
  },
  {
   "cell_type": "markdown",
   "metadata": {
    "tags": []
   },
   "source": [
    "<br>"
   ]
  },
  {
   "cell_type": "markdown",
   "metadata": {
    "tags": []
   },
   "source": [
    "In the future I would like to build on this project and create a automated playlist based off what I listen to and get futher insights in to my music habits such as the type of music I listen to the most."
   ]
  },
  {
   "cell_type": "markdown",
   "metadata": {
    "tags": []
   },
   "source": [
    "<br>"
   ]
  },
  {
   "cell_type": "markdown",
   "metadata": {
    "tags": []
   },
   "source": [
    "<br>"
   ]
  },
  {
   "cell_type": "markdown",
   "metadata": {},
   "source": [
    "***\n",
    "# End"
   ]
  }
 ],
 "metadata": {
  "kernelspec": {
   "display_name": "Python 3 (ipykernel)",
   "language": "python",
   "name": "python3"
  },
  "language_info": {
   "codemirror_mode": {
    "name": "ipython",
    "version": 3
   },
   "file_extension": ".py",
   "mimetype": "text/x-python",
   "name": "python",
   "nbconvert_exporter": "python",
   "pygments_lexer": "ipython3",
   "version": "3.8.11"
  }
 },
 "nbformat": 4,
 "nbformat_minor": 4
}
